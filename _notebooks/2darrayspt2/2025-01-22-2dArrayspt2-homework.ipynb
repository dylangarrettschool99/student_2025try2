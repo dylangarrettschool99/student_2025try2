{
 "cells": [
  {
   "cell_type": "markdown",
   "metadata": {},
   "source": [
    "---\n",
    "layout: post\n",
    "comments: true\n",
    "title: 2D Arrays Pt 2 - Homework\n",
    "categories: [AP CSA]\n",
    "courses: { csa: {week: 18} }\n",
    "menu: nav/FRQ_teach/p1-2darrayspt2.html\n",
    "permalink: csa/p1-frq-2darrayspt2/homework\n",
    "---"
   ]
  },
  {
   "cell_type": "markdown",
   "metadata": {},
   "source": [
    "# Homework\n",
    "\n",
    "### **Problem 4** on the 2022 AP CSA Free Response. Link is below. Submit to utterances here.\n",
    "\n",
    "[AP Central 2022 Computer Science A FRQ](https://apcentral.collegeboard.org/media/pdf/ap22-frq-computer-science-a.pdf)"
   ]
  },
  {
   "cell_type": "code",
   "execution_count": null,
   "metadata": {
    "vscode": {
     "languageId": "java"
    }
   },
   "outputs": [],
   "source": [
    "import java.util.Random;\n",
    "\n",
    "public void repopulate() {\n",
    "    Random rand = new Random();\n",
    "    \n",
    "    // Iterate through all elements of the grid\n",
    "    for (int i = 0; i < grid.length; i++) {\n",
    "        for (int j = 0; j < grid[i].length; j++) {\n",
    "            // Generate a random number divisible by 10 but not by 100\n",
    "            int value;\n",
    "            do {\n",
    "                value = rand.nextInt(MAX / 10) * 10 + 10; // Random value between 10 and MAX\n",
    "            } while (value % 100 == 0); // Make sure the value is not divisible by 100\n",
    "            grid[i][j] = value;\n",
    "        }\n",
    "    }\n",
    "}\n"
   ]
  },
  {
   "cell_type": "code",
   "execution_count": null,
   "metadata": {
    "vscode": {
     "languageId": "java"
    }
   },
   "outputs": [],
   "source": [
    "public int countIncreasingCols() {\n",
    "    int count = 0;\n",
    "\n",
    "    // Iterate through each column of the grid\n",
    "    for (int col = 0; col < grid[0].length; col++) {\n",
    "        boolean isIncreasing = true;\n",
    "\n",
    "        // Check if this column is in increasing order\n",
    "        for (int row = 1; row < grid.length; row++) {\n",
    "            if (grid[row][col] < grid[row - 1][col]) {\n",
    "                isIncreasing = false;\n",
    "                break;\n",
    "            }\n",
    "        }\n",
    "\n",
    "        // If the column is in increasing order, increment the count\n",
    "        if (isIncreasing) {\n",
    "            count++;\n",
    "        }\n",
    "    }\n",
    "\n",
    "    return count;\n",
    "}\n"
   ]
  },
  {
   "cell_type": "markdown",
   "metadata": {
    "vscode": {
     "languageId": "java"
    }
   },
   "source": [
    "1. A: int[][] array = new int[3][4]; correctly creates a 2D array with 3 rows and 4 columns, and in Java, all integer arrays are initialized with zeros by default.\n",
    "\n",
    "2. C: array[1][2] refers to the element in the second row (1-based) and third column, which is 6. In Java, array indices are zero-based.\n",
    "\n",
    "3. D: Both A and B correctly calculate the sum of all elements in the 2D Array\n",
    "\n",
    "4. C: array[rowIndex].length is the correct syntax to get the length of a specific row in a jagged array (an array of arrays). Each row can have a different length.\n",
    "\n",
    "5. A: The sum of these values is 3 + 5 + 7 = 15."
   ]
  },
  {
   "cell_type": "code",
   "execution_count": null,
   "metadata": {
    "vscode": {
     "languageId": "java"
    }
   },
   "outputs": [],
   "source": [
    "public class Main {\n",
    "    public static void main(String[] args) {\n",
    "        int[][] grassData = {\n",
    "            {2, 3, 1, 4, 3, 2, 5},\n",
    "            {1, 2, 3, 1, 4, 2, 3},\n",
    "            {3, 4, 2, 5, 1, 3, 2}\n",
    "        };\n",
    "\n",
    "        // Initialize a 1D array to store the total grass eaten by each cat\n",
    "        int[] totalGrassEaten = new int[grassData[0].length];\n",
    "\n",
    "        // Loop through each row and sum up the values column-wise\n",
    "        for (int i = 0; i < grassData.length; i++) {\n",
    "            for (int j = 0; j < grassData[i].length; j++) {\n",
    "                totalGrassEaten[j] += grassData[i][j];\n",
    "            }\n",
    "        }\n",
    "\n",
    "        // Output the result\n",
    "        System.out.println(java.util.Arrays.toString(totalGrassEaten));\n",
    "    }\n",
    "}\n",
    "\n",
    "Main.main(null);"
   ]
  },
  {
   "cell_type": "code",
   "execution_count": null,
   "metadata": {
    "vscode": {
     "languageId": "java"
    }
   },
   "outputs": [],
   "source": [
    "public class GrassPasture {\n",
    "    /** The 2D grid of pasture tastiness values */\n",
    "    private int[][] pastures;\n",
    "\n",
    "    /** Constructor initializes the field */\n",
    "    public GrassPasture(int[][] pastures) {\n",
    "        this.pastures = pastures;\n",
    "    }\n",
    "\n",
    "    /**\n",
    "     * Returns sum of total tastiness for all values in 2D array\n",
    "     */\n",
    "    public int getTotalGrass() {\n",
    "        int totalSum = 0;\n",
    "        \n",
    "        // Iterate through each row and column to sum all values\n",
    "        for (int i = 0; i < pastures.length; i++) {\n",
    "            for (int j = 0; j < pastures[i].length; j++) {\n",
    "                totalSum += pastures[i][j]; // Add the tastiness value of each cell\n",
    "            }\n",
    "        }\n",
    "        return totalSum; // Return the total sum of all tastiness values\n",
    "    }\n",
    "\n",
    "    /**\n",
    "     * Returns max sum of tastiness of a square in the 2D array (square can be 1x1, 2x2, etc.)\n",
    "     */\n",
    "    public int maxSquare() {\n",
    "        int rows = pastures.length;\n",
    "        int cols = pastures[0].length;\n",
    "        int maxSum = Integer.MIN_VALUE; // Initialize to the smallest possible value to track the maximum sum\n",
    "        \n",
    "        // dp[i][j] stores the maximum sum of a square with bottom-right corner at (i, j)\n",
    "        int[][] dp = new int[rows][cols];\n",
    "\n",
    "        // Traverse the grid and calculate the dp values\n",
    "        for (int i = 0; i < rows; i++) {\n",
    "            for (int j = 0; j < cols; j++) {\n",
    "                if (i == 0 || j == 0) {\n",
    "                    // For the first row and first column, the largest square can only be a 1x1 square\n",
    "                    dp[i][j] = pastures[i][j];\n",
    "                } else {\n",
    "                    // For other cells, calculate the largest square with bottom-right corner at (i, j)\n",
    "                    dp[i][j] = Math.min(dp[i - 1][j], Math.min(dp[i][j - 1], dp[i - 1][j - 1])) + pastures[i][j];\n",
    "                }\n",
    "                \n",
    "                // Keep track of the maximum square sum found so far\n",
    "                maxSum = Math.max(maxSum, dp[i][j]);\n",
    "            }\n",
    "        }\n",
    "        \n",
    "        return maxSum; // Return the largest square sum\n",
    "    }\n",
    "\n",
    "    /**\n",
    "     * Returns the maximum tastiness sum subarray in the flattened 2D grid\n",
    "     */\n",
    "    public int maxSubarraySum() {\n",
    "        int rows = pastures.length;\n",
    "        int cols = pastures[0].length;\n",
    "        \n",
    "        // Flatten the 2D grid into a 1D array (just concatenate all rows)\n",
    "        int[] flatArray = new int[rows * cols];\n",
    "        int index = 0;\n",
    "        for (int i = 0; i < rows; i++) {\n",
    "            for (int j = 0; j < cols; j++) {\n",
    "                flatArray[index++] = pastures[i][j]; // Copy the values into the 1D array\n",
    "            }\n",
    "        }\n",
    "\n",
    "        // Apply Kadane's algorithm to find the maximum sum subarray in the 1D flattened array\n",
    "        int maxSum = flatArray[0]; // Start with the first element as the initial max sum\n",
    "        int currentSum = flatArray[0]; // This keeps track of the current subarray sum\n",
    "        \n",
    "        // Iterate through the array starting from the second element\n",
    "        for (int i = 1; i < flatArray.length; i++) {\n",
    "            // If currentSum is negative, start a new subarray at the current element\n",
    "            // Otherwise, extend the current subarray by adding the current element\n",
    "            currentSum = Math.max(flatArray[i], currentSum + flatArray[i]);\n",
    "            \n",
    "            // Update maxSum if currentSum is higher\n",
    "            maxSum = Math.max(maxSum, currentSum);\n",
    "        }\n",
    "        \n",
    "        return maxSum; // Return the maximum subarray sum found\n",
    "    }\n",
    "}\n",
    "\n",
    "Main.main(null);\n"
   ]
  }
 ],
 "metadata": {
  "language_info": {
   "name": "python"
  }
 },
 "nbformat": 4,
 "nbformat_minor": 2
}
