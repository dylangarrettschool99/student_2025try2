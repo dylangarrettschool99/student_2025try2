{
 "cells": [
  {
   "cell_type": "markdown",
   "metadata": {
    "vscode": {
     "languageId": "raw"
    }
   },
   "source": [
    "---\n",
    "layout: post\n",
    "title: This Keyword\n",
    "description: Team Teach\n",
    "toc: True\n",
    "permalink: /csa/unit5/5.9/\n",
    "---"
   ]
  },
  {
   "cell_type": "markdown",
   "metadata": {},
   "source": [
    "# `This` Keyword\n",
    "\n",
    "### General\n",
    "- `this` keyword is used as a reference to the object itself\n",
    "    - It can be used to reference the object’s instance variables, methods, constructors, etc.\n",
    "    - Enables instance variables to access an object’s variables and methods\n",
    "- It is used to avoid confusion between instance variables and parameter values (local variables)\n"
   ]
  },
  {
   "cell_type": "code",
   "execution_count": 1,
   "metadata": {
    "vscode": {
     "languageId": "java"
    }
   },
   "outputs": [],
   "source": [
    "public class Minion {\n",
    "    private int banana = 5;\n",
    "    public void setBanana(int banana) {\n",
    "    this.banana = banana; //this.banana refers to the instance variable banana\n",
    "    // banana refers to the parameter banana\n",
    "    }\n",
    "}"
   ]
  },
  {
   "cell_type": "markdown",
   "metadata": {},
   "source": [
    "### Calling Another Constructor\n",
    "- `this` keyword can be used to invoke another constructor of the same class\n",
    "\n",
    "Format: this.(*argument*)\n"
   ]
  },
  {
   "cell_type": "code",
   "execution_count": 2,
   "metadata": {
    "vscode": {
     "languageId": "java"
    }
   },
   "outputs": [],
   "source": [
    "public class MinionGoggles {\n",
    "    private double lensSize;\n",
    "    public MinionGoggles(double lensSize) {\n",
    "        this.lensSize = lensSize; //this keyword references the hidden data field, lensSize\n",
    "    }\n",
    "    public MinionGoggles() {\n",
    "        this(1.0); //passes 1.0 as an argument to the 1st constructor\n",
    "    }\n",
    "}"
   ]
  },
  {
   "cell_type": "markdown",
   "metadata": {},
   "source": [
    "### Calling Other Methods\n",
    "- `this` keyword can be used to call other methods in the same class\n",
    "\n",
    "Format: this.*methodName*()"
   ]
  },
  {
   "cell_type": "code",
   "execution_count": 3,
   "metadata": {
    "vscode": {
     "languageId": "java"
    }
   },
   "outputs": [],
   "source": [
    "public class Minion {\n",
    "    private String name;\n",
    "\n",
    "    public Minion(String name) {\n",
    "        this.name = name;\n",
    "    }\n",
    "\n",
    "    public void run() {\n",
    "        System.out.println(this.name + \" is running\");\n",
    "        this.speak();  // Calls the speak method of the current object\n",
    "    }\n",
    "\n",
    "    public void speak() {\n",
    "        System.out.println(this.name + \" says: 'Bello!'\");\n",
    "    }\n",
    "}"
   ]
  },
  {
   "cell_type": "markdown",
   "metadata": {},
   "source": [
    "### Passing `this` as a Parameter\n",
    "- `this` keyword can be used to pass the reference of the current object to a method or constructor\n",
    "- Format: *methodName*(this)\n"
   ]
  },
  {
   "cell_type": "code",
   "execution_count": 5,
   "metadata": {
    "vscode": {
     "languageId": "java"
    }
   },
   "outputs": [],
   "source": [
    "class Minion {\n",
    "    String name;\n",
    "\n",
    "    // Constructor\n",
    "    Minion(String name) {\n",
    "        this.name = name;\n",
    "    }\n",
    "\n",
    "    // Method to print the name of the minion\n",
    "    void printMinion() {\n",
    "        System.out.println(\"Minion name: \" + name);\n",
    "    }\n",
    "    \n",
    "    // Call the method to print the minion's name\n",
    "    void callPrintMinion() {\n",
    "        printMinion(); // Calls the print method directly\n",
    "    }\n",
    "}\n",
    "\n",
    "public class Main {\n",
    "    public static void main(String[] args) {\n",
    "        // Create a Minion object\n",
    "        Minion minion1 = new Minion(\"Kevin\");\n",
    "        \n",
    "        // Call the method to print the minion's name\n",
    "        minion1.callPrintMinion(); // Output: Minion name: Kevin\n",
    "    }\n",
    "}\n"
   ]
  },
  {
   "cell_type": "markdown",
   "metadata": {},
   "source": [
    "## Popcorn Hacks\n",
    "The Minions are preparing for a big event where the tallest and fastest minion will get to assist Gru on his next mission! You’ve been called in as the official \"Minion Trainer\" to help compare the minions. The goal is to see which minion is more prepared for the mission.\n",
    "\n",
    "<img src=\"https://github.com/user-attachments/assets/04a96193-6551-4cf8-a169-29d7c93ad9fa\" width=\"300\" alt=\"Minion Image\">\n"
   ]
  },
  {
   "cell_type": "code",
   "execution_count": 7,
   "metadata": {
    "vscode": {
     "languageId": "java"
    }
   },
   "outputs": [
    {
     "name": "stdout",
     "output_type": "stream",
     "text": [
      "Minion 1 speed: fast\n",
      "Is Minion 1 taller than Minion 2? true\n",
      "Is Minion 1 still taller than Minion 2? false\n"
     ]
    }
   ],
   "source": [
    "public class Minion {\n",
    "    private String speed;\n",
    "    private int height;\n",
    "\n",
    "    // Constructor\n",
    "    public Minion(String speed, int height) {\n",
    "        this.speed = speed;\n",
    "        this.height = height;\n",
    "    }\n",
    "\n",
    "    // Setter for height\n",
    "    public void setHeight(int height) {\n",
    "        this.height = height;  \n",
    "    }\n",
    "\n",
    "    // Getter for speed\n",
    "    public String getSpeed() {\n",
    "        return this.speed;  \n",
    "    }\n",
    "\n",
    "    // Method to compare heights\n",
    "    public boolean isTallerThan(Minion otherMinion) {\n",
    "        return this.height > otherMinion.height;  \n",
    "    }\n",
    "\n",
    "    // Main method to test functionality\n",
    "    public static void main(String[] args) {\n",
    "        // Create two Minion objects\n",
    "        Minion minion1 = new Minion(\"fast\", 43);\n",
    "        Minion minion2 = new Minion(\"medium\", 28);\n",
    "\n",
    "        // Output their speed and height comparison\n",
    "        System.out.println(\"Minion 1 speed: \" + minion1.getSpeed());\n",
    "        System.out.println(\"Is Minion 1 taller than Minion 2? \" + minion1.isTallerThan(minion2));\n",
    "\n",
    "        // Change Minion 2's height and compare again\n",
    "        minion2.setHeight(50);\n",
    "        System.out.println(\"Is Minion 1 still taller than Minion 2? \" + minion1.isTallerThan(minion2));\n",
    "    }\n",
    "}\n",
    "\n",
    "// Run the main method to execute\n",
    "Minion.main(null);\n"
   ]
  },
  {
   "cell_type": "markdown",
   "metadata": {},
   "source": [
    "1. What is the output of the statement *System.out.println(\"minion 1 speed: \" + minion1.speed())*? Explain why the `this` keyword is useful in the *getSpeed()* method.\n",
    "\n",
    "2. What does the *isTallerThan()* method compare?\n",
    "\n",
    "3. What happens to the result of *System.out.println(\"Is minion1 taller than minion2? \" + minion1.isTallerThan(minion2))* after *minion2.setHeight(50)* is called?\n",
    "\n",
    "\n",
    "Who should be selected for the mission?🤔"
   ]
  },
  {
   "cell_type": "markdown",
   "metadata": {},
   "source": [
    "🍌🍌🍌🍌🍌🍌🍌🍌🍌🍌🍌🍌🍌🍌🍌🍌🍌🍌🍌🍌🍌🍌🍌🍌🍌🍌🍌🍌🍌🍌🍌🍌🍌🍌🍌🍌🍌🍌🍌🍌🍌🍌🍌🍌🍌🍌🍌🍌🍌🍌🍌🍌🍌🍌🍌🍌🍌🍌🍌🍌🍌🍌🍌🍌🍌🍌🍌\n",
    "<br></br>\n",
    "<img src=\"https://github.com/user-attachments/assets/8d88ae01-97dc-4b53-a297-5e8253a1fc91\" width=\"300\" alt=\"Pancake Image\">\n",
    "\n",
    "In the bustling kitchen of Gru’s secret lab, the Minions were on a mission to create the perfect pancake for their breakfast feast. Kevin needed to make sure each pancake was perfectly round, with the exact right circumference for maximum deliciousness. But how? He needed to figure out the precise relationship between the pancake’s radius and its circumference. Help Kevin create the perfect pancake!\n",
    "\n",
    "The `MinionPancake` class below should have:\n",
    "- A `radius` field\n",
    "- A method `setRadius(double radius)`: have this set as the radius\n",
    "- A method `calculateCircumference()`: have this calculate the circumference of a circle with radius 5 and print it\n",
    "    - (hint: use Math.PI for 'π')"
   ]
  },
  {
   "cell_type": "code",
   "execution_count": 9,
   "metadata": {
    "vscode": {
     "languageId": "java"
    }
   },
   "outputs": [
    {
     "name": "stdout",
     "output_type": "stream",
     "text": [
      "The circumference of the pancake with radius 5.0 is: 31.41592653589793\n"
     ]
    }
   ],
   "source": [
    "class MinionPancake {\n",
    "    private double radius;\n",
    "\n",
    "    // Method to set the radius\n",
    "    public void setRadius(double radius) {\n",
    "        this.radius = radius; // Use 'this' to set the radius\n",
    "    }\n",
    "\n",
    "    // Method to calculate circumference and print result\n",
    "    public void calculateCircumference() {\n",
    "        double circumference = 2 * Math.PI * radius; // Calculate circumference\n",
    "        System.out.println(\"The circumference of the pancake with radius \" + radius + \" is: \" + circumference);\n",
    "    }\n",
    "}\n",
    "\n",
    "// Create a pancake with radius 5 and calculate its circumference\n",
    "MinionPancake pancake = new MinionPancake();\n",
    "pancake.setRadius(5); // Set the radius to 5\n",
    "pancake.calculateCircumference(); // Calculate and print the circumference\n"
   ]
  }
 ],
 "metadata": {
  "kernelspec": {
   "display_name": "Java",
   "language": "java",
   "name": "java"
  },
  "language_info": {
   "codemirror_mode": "java",
   "file_extension": ".jshell",
   "mimetype": "text/x-java-source",
   "name": "Java",
   "pygments_lexer": "java",
   "version": "17.0.12+7-Ubuntu-1ubuntu224.04"
  }
 },
 "nbformat": 4,
 "nbformat_minor": 2
}
