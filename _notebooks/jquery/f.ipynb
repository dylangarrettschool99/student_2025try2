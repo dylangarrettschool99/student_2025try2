{
 "cells": [
  {
   "cell_type": "markdown",
   "metadata": {
    "vscode": {
     "languageId": "raw"
    }
   },
   "source": [
    "---\n",
    "layout: post\n",
    "toc: true\n",
    "title: JQuery/Thymeleaf Homework\n",
    "description: Homework for JQuery/Thymeleaf \n",
    "menu: nav/FRQ_teach/jquery-thymeleafp3.html\n",
    "author: Akhil, Tarun, Kayden\n",
    "permalink: /period3/jquery-thymeleaf-homework\n",
    "---"
   ]
  },
  {
   "cell_type": "code",
   "execution_count": null,
   "id": "a6c7b8d7",
   "metadata": {
    "vscode": {
     "languageId": "html"
    }
   },
   "outputs": [],
   "source": [
    "<head>\n",
    "    <title>jQuery Dynamic Update</title>\n",
    "    <script src=\"https://code.jquery.com/jquery-3.6.0.min.js\"></script>\n",
    "</head>\n",
    "<body>\n",
    "\n",
    "<h2>Update Text</h2>\n",
    "<input type=\"text\" id=\"userInput\" placeholder=\"Enter some text\">\n",
    "<button id=\"updateButton\">Update Text</button>\n",
    "\n",
    "<p id=\"displayText\">The text will be updated here.</p>\n",
    "<p id=\"charCount\">Character Count: 0</p>\n",
    "<p id=\"warning\" style=\"color: red; display: none;\">Character limit reached!</p>\n",
    "\n",
    "<script>\n",
    "    $(document).ready(function() {\n",
    "        const maxCharLimit = 100; // Set a character limit\n",
    "\n",
    "        // Event listener for button click\n",
    "        $('#updateButton').click(function() {\n",
    "            var inputText = $('#userInput').val(); // Get user input text\n",
    "            $('#displayText').text(inputText); // Update the p element with the text\n",
    "\n",
    "            // Update character count\n",
    "            var charCount = inputText.length;\n",
    "            $('#charCount').text(\"Character Count: \" + charCount);\n",
    "\n",
    "            // Check if the character limit is reached\n",
    "            if (charCount >= maxCharLimit) {\n",
    "                $('#warning').show(); // Show warning if limit is reached\n",
    "            } else {\n",
    "                $('#warning').hide(); // Hide warning if below limit\n",
    "            }\n",
    "        });\n",
    "    });\n",
    "</script>\n",
    "</body>"
   ]
  },
  {
   "cell_type": "code",
   "execution_count": null,
   "id": "d3f7e6f4",
   "metadata": {
    "vscode": {
     "languageId": "html"
    }
   },
   "outputs": [],
   "source": [
    "<title>Student List</title>\n",
    "<style>\n",
    "    .failed {\n",
    "        color: red;\n",
    "        font-weight: bold;\n",
    "    }\n",
    "</style>\n",
    "\n",
    "<h2>Student List</h2>\n",
    "<table border=\"1\">\n",
    "    <thead>\n",
    "        <tr>\n",
    "            <th>Name</th>\n",
    "            <th>Grade</th>\n",
    "            <th>Status</th>\n",
    "        </tr>\n",
    "    </thead>\n",
    "    <tbody>\n",
    "        <tr th:each=\"student : ${students}\">\n",
    "            <td th:text=\"${student.getName()}\"></td>\n",
    "            <td th:text=\"${student.getGrade()}\"></td>\n",
    "            <td th:classappend=\"${student.getStatus() ? '' : 'failed'}\"\n",
    "                th:text=\"${student.getStatus() ? 'Passed' : 'Failed'}\"></td>\n",
    "        </tr>\n",
    "    </tbody>\n",
    "</table>"
   ]
  },
  {
   "cell_type": "markdown",
   "metadata": {},
   "source": [
    "# Bonus Question:\n",
    "\n",
    "Why is Thymeleaf better than creating a regular table? What are any potential pros and cons of Thymeleaf tables?\n",
    "\n",
    "### Answer:\n",
    "Thymeleaf offers several advantages over a regular table:\n",
    "- **Separation of concerns**: Thymeleaf promotes a clear separation between HTML structure and Java logic. This helps maintain cleaner code, which is easier to debug and maintain.\n",
    "- **Dynamic rendering**: Thymeleaf dynamically binds data to the HTML table, so we can display data that comes from the backend with ease.\n",
    "- **Conditional styling**: We can conditionally apply styles or classes based on certain conditions, such as if a student has passed or failed.\n",
    "- **Security**: Thymeleaf automatically escapes HTML, JavaScript, and URL values to prevent cross-site scripting (XSS) attacks.\n",
    "\n",
    "#### Pros:\n",
    "1. **Ease of integration**: Thymeleaf can be easily integrated with Spring and other Java frameworks.\n",
    "2. **Rich templating features**: Features like iteration (`th:each`) and conditional rendering (`th:if`) allow for more powerful and flexible templates.\n",
    "3. **Improved maintainability**: Code is easier to maintain because the structure is clean and readable.\n",
    "4. **Reduced errors**: With data binding, you can directly link values from the backend to the HTML elements without having to manually format them.\n",
    "\n",
    "#### Cons:\n",
    "1. **Learning curve**: For beginners, learning Thymeleaf and integrating it with a backend Java application can take time.\n",
    "2. **Limited interactivity**: Unlike front-end JavaScript frameworks, Thymeleaf doesn't provide dynamic behavior out-of-the-box.\n",
    "3. **Server-side rendering**: Thymeleaf generates static HTML pages, so it lacks some of the interactivity and flexibility of client-side rendering solutions like React or Angular."
   ]
  }
 ],
 "metadata": {
  "kernelspec": {
   "display_name": "Python 3",
   "language": "python",
   "name": "python3"
  },
  "language_info": {
   "codemirror_mode": {
    "name": "ipython",
    "version": 3
   },
   "file_extension": ".py",
   "mimetype": "text/x-python",
   "name": "python",
   "nbconvert_exporter": "python",
   "pygments_lexer": "ipython3",
   "version": "3.12.5"
  },
  "orig_nbformat": 4
 },
 "nbformat": 4,
 "nbformat_minor": 2
}
