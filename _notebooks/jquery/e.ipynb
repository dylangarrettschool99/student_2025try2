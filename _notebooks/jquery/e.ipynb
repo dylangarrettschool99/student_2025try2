{
 "cells": [
  {
   "cell_type": "markdown",
   "metadata": {
    "vscode": {
     "languageId": "raw"
    }
   },
   "source": [
    "---\n",
    "layout: post\n",
    "toc: true\n",
    "title: JQuery\n",
    "description: Introduction to JQuery Library\n",
    "categories: [CSA PBL]\n",
    "courses: { csa: {week: 18} }\n",
    "type: ccc\n",
    "menu: nav/FRQ_teach/jquery-thymeleafp3.html\n",
    "author: Akhil, Tarun, Kayden\n",
    "permalink: /period3/jquery\n",
    "---"
   ]
  },
  {
   "cell_type": "code",
   "execution_count": null,
   "metadata": {
    "vscode": {
     "languageId": "java"
    }
   },
   "outputs": [],
   "source": [
    "$(document).ready(function(){     // document ready function to ensure the DOM is loaded\n",
    "    $(\"button\").click(function(){ // The selector here is 'button'. It's used to select all button elements.\n",
    "        $(\"p\").hide();              // The selector here is 'p'. It selects all <p> elements to hide them.\n",
    "    });                           //\n",
    "  });                             //"
   ]
  }
 ],
 "metadata": {
  "kernelspec": {
   "display_name": "Java",
   "language": "java",
   "name": "java"
  },
  "language_info": {
   "codemirror_mode": "java",
   "file_extension": ".jshell",
   "mimetype": "text/x-java-source",
   "name": "Java",
   "pygments_lexer": "java",
   "version": "17.0.13+11-Ubuntu-2ubuntu124.04"
  }
 },
 "nbformat": 4,
 "nbformat_minor": 2
}
