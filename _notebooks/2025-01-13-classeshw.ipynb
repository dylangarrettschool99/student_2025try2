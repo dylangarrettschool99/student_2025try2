{
 "cells": [
  {
   "cell_type": "code",
   "execution_count": 1,
   "metadata": {
    "vscode": {
     "languageId": "java"
    }
   },
   "outputs": [
    {
     "name": "stdout",
     "output_type": "stream",
     "text": [
      "7 TIMES 3\n",
      "8 TIMES 4\n",
      "9 TIMES 5\n",
      "1 TIMES 1\n",
      "2 TIMES 2\n"
     ]
    }
   ],
   "source": [
    "// Define the interface\n",
    "public interface StudyPractice {\n",
    "    String getProblem();  // Returns the current practice problem\n",
    "    void nextProblem();   // Moves to the next problem\n",
    "}\n",
    "\n",
    "// Implement the interface with the MultiplePractice class\n",
    "public class MultiplePractice implements StudyPractice {\n",
    "    private int firstFactor;\n",
    "    private int secondFactor;\n",
    "    \n",
    "    // Constructor initializes the first problem\n",
    "    public MultiplePractice(int startFirst, int startSecond) {\n",
    "        firstFactor = startFirst;\n",
    "        secondFactor = startSecond;\n",
    "    }\n",
    "\n",
    "    // Returns the current multiplication problem as a string\n",
    "    @Override\n",
    "    public String getProblem() {\n",
    "        return firstFactor + \" TIMES \" + secondFactor;\n",
    "    }\n",
    "\n",
    "    // Updates the problem to the next one (incrementing both factors)\n",
    "    @Override\n",
    "    public void nextProblem() {\n",
    "        firstFactor++;\n",
    "        secondFactor++;\n",
    "    }\n",
    "}\n",
    "\n",
    "// Create instances of MultiplePractice and demonstrate the behavior\n",
    "MultiplePractice p1 = new MultiplePractice(7, 3);\n",
    "System.out.println(p1.getProblem());  // Outputs: 7 TIMES 3\n",
    "p1.nextProblem();\n",
    "System.out.println(p1.getProblem());  // Outputs: 8 TIMES 4\n",
    "p1.nextProblem();\n",
    "System.out.println(p1.getProblem());  // Outputs: 9 TIMES 5\n",
    "\n",
    "MultiplePractice p2 = new MultiplePractice(1, 1);\n",
    "System.out.println(p2.getProblem());  // Outputs: 1 TIMES 1\n",
    "p2.nextProblem();\n",
    "System.out.println(p2.getProblem());  // Outputs: 2 TIMES 2\n"
   ]
  }
 ],
 "metadata": {
  "kernelspec": {
   "display_name": "Java",
   "language": "java",
   "name": "java"
  },
  "language_info": {
   "codemirror_mode": "java",
   "file_extension": ".jshell",
   "mimetype": "text/x-java-source",
   "name": "Java",
   "pygments_lexer": "java",
   "version": "17.0.13+11-Ubuntu-2ubuntu124.04"
  }
 },
 "nbformat": 4,
 "nbformat_minor": 2
}
