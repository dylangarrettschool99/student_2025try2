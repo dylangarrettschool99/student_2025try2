{
 "cells": [
  {
   "cell_type": "markdown",
   "id": "7d18db9a",
   "metadata": {},
   "source": [
    "v popcorn hack v"
   ]
  },
  {
   "cell_type": "code",
   "execution_count": 4,
   "id": "15480f7a",
   "metadata": {
    "vscode": {
     "languageId": "java"
    }
   },
   "outputs": [
    {
     "name": "stdout",
     "output_type": "stream",
     "text": [
      "Enter a name to search (or type 'quit' to exit): Phone number for David: 444-888-2222\n",
      "Enter a name to search (or type 'quit' to exit): Name not found in the phone book.\n",
      "Enter a name to search (or type 'quit' to exit): Phone number for Charlie: 555-234-5678\n",
      "Enter a name to search (or type 'quit' to exit): \n",
      "Phone Book (Sorted by Name):\n",
      "Alice : 123-456-7890\n",
      "Bob : 987-654-3210\n",
      "Charlie : 555-234-5678\n",
      "David : 444-888-2222\n",
      "Eve : 666-777-9999\n"
     ]
    }
   ],
   "source": [
    "import java.util.HashMap;\n",
    "import java.util.Map;\n",
    "import java.util.Scanner;\n",
    "import java.util.TreeMap;\n",
    "\n",
    "public class PhoneBook {\n",
    "    public static void main(String[] args) {\n",
    "        // Create a HashMap to store names and phone numbers\n",
    "        Map<String, String> phoneBook = new HashMap<>();\n",
    "\n",
    "        // Add at least 5 entries\n",
    "        phoneBook.put(\"Alice\", \"123-456-7890\");\n",
    "        phoneBook.put(\"Bob\", \"987-654-3210\");\n",
    "        phoneBook.put(\"Charlie\", \"555-234-5678\");\n",
    "        phoneBook.put(\"David\", \"444-888-2222\");\n",
    "        phoneBook.put(\"Eve\", \"666-777-9999\");\n",
    "\n",
    "        // Scanner for user input\n",
    "        Scanner scanner = new Scanner(System.in);\n",
    "        String name;\n",
    "\n",
    "        // Allow multiple lookups until user quits\n",
    "        while (true) {\n",
    "            System.out.print(\"Enter a name to search (or type 'quit' to exit): \");\n",
    "            name = scanner.nextLine().trim();\n",
    "\n",
    "            if (name.equalsIgnoreCase(\"quit\")) {\n",
    "                break;\n",
    "            }\n",
    "\n",
    "            // Search for the name in the phone book\n",
    "            String phoneNumber = phoneBook.get(name);\n",
    "            if (phoneNumber != null) {\n",
    "                System.out.println(\"Phone number for \" + name + \": \" + phoneNumber);\n",
    "            } else {\n",
    "                System.out.println(\"Name not found in the phone book.\");\n",
    "            }\n",
    "        }\n",
    "\n",
    "        // Print the phone book in sorted order (optional)\n",
    "        System.out.println(\"\\nPhone Book (Sorted by Name):\");\n",
    "        Map<String, String> sortedPhoneBook = new TreeMap<>(phoneBook);\n",
    "        for (Map.Entry<String, String> entry : sortedPhoneBook.entrySet()) {\n",
    "            System.out.println(entry.getKey() + \" : \" + entry.getValue());\n",
    "        }\n",
    "\n",
    "        // Close scanner\n",
    "        scanner.close();\n",
    "    }\n",
    "}\n",
    "PhoneBook.main(null);"
   ]
  },
  {
   "cell_type": "markdown",
   "id": "98e3a9b9",
   "metadata": {},
   "source": [
    "v popcorn hack v"
   ]
  },
  {
   "cell_type": "code",
   "execution_count": 8,
   "id": "1685cde0",
   "metadata": {
    "vscode": {
     "languageId": "java"
    }
   },
   "outputs": [
    {
     "name": "stdout",
     "output_type": "stream",
     "text": [
      "Sorted even numbers: [8, 12, 18, 50, 64, 72]\n",
      "Sorted odd numbers: [27, 33, 45, 99]\n",
      "Largest even number: 72\n"
     ]
    }
   ],
   "source": [
    "import java.util.ArrayList;\n",
    "import java.util.Collections;\n",
    "import java.util.List;\n",
    "import java.util.stream.Collectors;\n",
    "\n",
    "public class ListExperiment {\n",
    "    public static void main(String[] args) {\n",
    "        // Create an ArrayList and add at least 10 integers\n",
    "        List<Integer> numbers = new ArrayList<>();\n",
    "        Collections.addAll(numbers, 12, 45, 8, 33, 27, 50, 18, 99, 64, 72);\n",
    "        \n",
    "        // Sort the list in ascending order\n",
    "        Collections.sort(numbers);\n",
    "        \n",
    "        // Filter out odd numbers and collect even numbers\n",
    "        List<Integer> evenNumbers = numbers.stream()\n",
    "                                           .filter(n -> n % 2 == 0)\n",
    "                                           .collect(Collectors.toList());\n",
    "        \n",
    "        // Print sorted even numbers\n",
    "        System.out.println(\"Sorted even numbers: \" + evenNumbers);\n",
    "\n",
    "        // Optional: Display only the odd numbers\n",
    "        List<Integer> oddNumbers = numbers.stream()\n",
    "                                          .filter(n -> n % 2 != 0)\n",
    "                                          .collect(Collectors.toList());\n",
    "        System.out.println(\"Sorted odd numbers: \" + oddNumbers);\n",
    "\n",
    "        // Find and print the largest even number\n",
    "        if (!evenNumbers.isEmpty()) {\n",
    "            int largestEven = Collections.max(evenNumbers);\n",
    "            System.out.println(\"Largest even number: \" + largestEven);\n",
    "        } else {\n",
    "            System.out.println(\"No even numbers found.\");\n",
    "        }\n",
    "    }\n",
    "}\n",
    "ListExperiment.main(null);"
   ]
  },
  {
   "cell_type": "markdown",
   "id": "ef15734e",
   "metadata": {},
   "source": [
    "v popcorn hack v"
   ]
  },
  {
   "cell_type": "code",
   "execution_count": 9,
   "id": "790a8496",
   "metadata": {
    "vscode": {
     "languageId": "java"
    }
   },
   "outputs": [
    {
     "name": "stdout",
     "output_type": "stream",
     "text": [
      "Initial Deque: [Elderberry, Cherry, Apple, Banana, Date, Fig]\n",
      "Deque after removing first (Elderberry) and last (Fig): [Cherry, Apple, Banana, Date]\n",
      "Converted List: [Cherry, Apple, Banana, Date]\n",
      "Emptying the deque:\n",
      "Removed: Cherry\n",
      "Removed: Apple\n",
      "Removed: Banana\n",
      "Removed: Date\n",
      "Final Deque (should be empty): []\n"
     ]
    }
   ],
   "source": [
    "import java.util.ArrayDeque;\n",
    "import java.util.Deque;\n",
    "import java.util.List;\n",
    "import java.util.ArrayList;\n",
    "\n",
    "public class DequeExperiment {\n",
    "    public static void main(String[] args) {\n",
    "        // Create an ArrayDeque\n",
    "        Deque<String> deque = new ArrayDeque<>();\n",
    "\n",
    "        // Add elements using addFirst() and addLast()\n",
    "        deque.addFirst(\"Apple\");\n",
    "        deque.addLast(\"Banana\");\n",
    "        deque.addFirst(\"Cherry\");\n",
    "        deque.addLast(\"Date\");\n",
    "        deque.addFirst(\"Elderberry\");\n",
    "        deque.addLast(\"Fig\");\n",
    "\n",
    "        // Print the deque\n",
    "        System.out.println(\"Initial Deque: \" + deque);\n",
    "\n",
    "        // Remove one element from each end\n",
    "        String removedFirst = deque.removeFirst();\n",
    "        String removedLast = deque.removeLast();\n",
    "\n",
    "        // Print the deque after removals\n",
    "        System.out.println(\"Deque after removing first (\" + removedFirst + \") and last (\" + removedLast + \"): \" + deque);\n",
    "\n",
    "        // Optional: Convert deque to a list and print\n",
    "        List<String> list = new ArrayList<>(deque);\n",
    "        System.out.println(\"Converted List: \" + list);\n",
    "\n",
    "        // Optional: Empty the deque while printing each removed element\n",
    "        System.out.println(\"Emptying the deque:\");\n",
    "        while (!deque.isEmpty()) {\n",
    "            System.out.println(\"Removed: \" + deque.pollFirst());\n",
    "        }\n",
    "\n",
    "        // Print final deque state\n",
    "        System.out.println(\"Final Deque (should be empty): \" + deque);\n",
    "    }\n",
    "}\n",
    "DequeExperiment.main(null);"
   ]
  },
  {
   "cell_type": "markdown",
   "id": "28fe81d7",
   "metadata": {},
   "source": [
    "v homework v"
   ]
  },
  {
   "cell_type": "code",
   "execution_count": 6,
   "id": "ba871010",
   "metadata": {
    "vscode": {
     "languageId": "java"
    }
   },
   "outputs": [
    {
     "name": "stdout",
     "output_type": "stream",
     "text": [
      "Input List: [1, 2, 3, 4, 5, 6, 7, 8, 9, 10]\n",
      "Filtered Even Numbers: [2, 4, 6, 8, 10]\n"
     ]
    }
   ],
   "source": [
    "import java.util.ArrayList;\n",
    "import java.util.List;\n",
    "\n",
    "public class ListExample {\n",
    "    public static List<Integer> filterEvenNumbers(List<Integer> numbers) {\n",
    "        List<Integer> evenNumbers = new ArrayList<>();\n",
    "        for (int i = 0; i < numbers.size(); i++) {\n",
    "            if (numbers.get(i) % 2 == 0) {\n",
    "                evenNumbers.add(numbers.get(i));\n",
    "            }\n",
    "        }\n",
    "        return evenNumbers;\n",
    "    }\n",
    "\n",
    "    public static void main(String[] args) {\n",
    "        List<Integer> numbers = new ArrayList<>();\n",
    "        for (int i = 1; i <= 10; i++) {\n",
    "            numbers.add(i);\n",
    "        }\n",
    "\n",
    "        System.out.println(\"Input List: \" + numbers);\n",
    "        System.out.println(\"Filtered Even Numbers: \" + filterEvenNumbers(numbers));\n",
    "    }\n",
    "}\n",
    "ListExample.main(null);\n"
   ]
  },
  {
   "cell_type": "code",
   "execution_count": null,
   "id": "406656c3",
   "metadata": {
    "vscode": {
     "languageId": "java"
    }
   },
   "outputs": [],
   "source": [
    "import java.util.HashSet;\n",
    "import java.util.Set;\n",
    "\n",
    "public class SetExample {\n",
    "    public static Set<String> findIntersection(Set<String> set1, Set<String> set2) {\n",
    "        Set<String> intersection = new HashSet<>();\n",
    "        for (String element : set1) {\n",
    "            if (set2.contains(element)) {\n",
    "                intersection.add(element);\n",
    "            }\n",
    "        }\n",
    "        return intersection;\n",
    "    }\n",
    "\n",
    "    public static void main(String[] args) {\n",
    "        Set<String> set1 = new HashSet<>();\n",
    "        set1.add(\"apple\");\n",
    "        set1.add(\"banana\");\n",
    "        set1.add(\"cherry\");\n",
    "        set1.add(\"date\");\n",
    "\n",
    "        Set<String> set2 = new HashSet<>();\n",
    "        set2.add(\"banana\");\n",
    "        set2.add(\"date\");\n",
    "        set2.add(\"fig\");\n",
    "        set2.add(\"grape\");\n",
    "\n",
    "        System.out.println(\"Set1: \" + set1);\n",
    "        System.out.println(\"Set2: \" + set2);\n",
    "        System.out.println(\"Intersection: \" + findIntersection(set1, set2));\n",
    "    }\n",
    "}\n",
    "SetExample.main(null);"
   ]
  },
  {
   "cell_type": "code",
   "execution_count": 7,
   "id": "3db45361",
   "metadata": {
    "vscode": {
     "languageId": "java"
    }
   },
   "outputs": [
    {
     "name": "stdout",
     "output_type": "stream",
     "text": [
      "Initial line after adding 4 customers (end): [Alice, Bob, Charlie, Diana]\n",
      "After VIP arrival (added at front): [VIP1, Alice, Bob, Charlie, Diana]\n",
      "After serving the customer at the front (removed): [Alice, Bob, Charlie, Diana]\n",
      "Current front of the line: Alice\n",
      "Current back of the line: Diana\n",
      "Total number of customers waiting: 4\n"
     ]
    }
   ],
   "source": [
    "import java.util.ArrayDeque;\n",
    "import java.util.Deque;\n",
    "\n",
    "public class DequeExample {\n",
    "    public static void main(String[] args) {\n",
    "        Deque<String> customerLine = new ArrayDeque<>();\n",
    "\n",
    "        // Step 1: Add customers to the end\n",
    "        customerLine.addLast(\"Alice\");\n",
    "        customerLine.addLast(\"Bob\");\n",
    "        customerLine.addLast(\"Charlie\");\n",
    "        customerLine.addLast(\"Diana\");\n",
    "\n",
    "        System.out.println(\"Initial line after adding 4 customers (end): \" + customerLine);\n",
    "\n",
    "        // Step 2: Add VIP customer at the front\n",
    "        customerLine.addFirst(\"VIP1\");\n",
    "        System.out.println(\"After VIP arrival (added at front): \" + customerLine);\n",
    "\n",
    "        // Step 3: Remove the front customer\n",
    "        customerLine.removeFirst();\n",
    "        System.out.println(\"After serving the customer at the front (removed): \" + customerLine);\n",
    "\n",
    "        // Step 4: Inspect front and back customers\n",
    "        System.out.println(\"Current front of the line: \" + customerLine.peekFirst());\n",
    "        System.out.println(\"Current back of the line: \" + customerLine.peekLast());\n",
    "\n",
    "        // Step 5: Print size\n",
    "        System.out.println(\"Total number of customers waiting: \" + customerLine.size());\n",
    "    }\n",
    "}\n",
    "DequeExample.main(null);"
   ]
  }
 ],
 "metadata": {
  "kernelspec": {
   "display_name": "Java",
   "language": "java",
   "name": "java"
  },
  "language_info": {
   "codemirror_mode": "java",
   "file_extension": ".jshell",
   "mimetype": "text/x-java-source",
   "name": "Java",
   "pygments_lexer": "java",
   "version": "17.0.14+7-Ubuntu-124.04"
  }
 },
 "nbformat": 4,
 "nbformat_minor": 5
}