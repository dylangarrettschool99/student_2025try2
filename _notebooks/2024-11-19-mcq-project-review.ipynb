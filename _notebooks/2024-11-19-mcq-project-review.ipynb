{
 "cells": [
  {
   "cell_type": "markdown",
   "metadata": {},
   "source": [
    "---\n",
    "title: Sprint 3 review\n",
    "layout: post\n",
    "toc: false\n",
    "comments: true\n",
    "---"
   ]
  },
  {
   "cell_type": "markdown",
   "metadata": {},
   "source": [
    "# features implemented in website:"
   ]
  },
  {
   "cell_type": "markdown",
   "metadata": {},
   "source": []
  },
  {
   "cell_type": "code",
   "execution_count": null,
   "metadata": {
    "vscode": {
     "languageId": "java"
    }
   },
   "outputs": [],
   "source": [
    "<!DOCTYPE HTML>\n",
    "<html lang=\"en\">\n",
    "<head>\n",
    "    <title>Person Form</title>\n",
    "    <link href=\"https://cdnjs.cloudflare.com/ajax/libs/font-awesome/5.15.3/css/all.min.css\" rel=\"stylesheet\">\n",
    "    <script>\n",
    "        // Toggle the visibility of password fields\n",
    "        function togglePasswordVisibility(fieldId, iconId) {\n",
    "            var passwordField = document.getElementById(fieldId);\n",
    "            var icon = document.getElementById(iconId);\n",
    "\n",
    "            if (passwordField.type === \"password\") {\n",
    "                passwordField.type = \"text\";\n",
    "                icon.classList.remove(\"fa-eye-slash\");\n",
    "                icon.classList.add(\"fa-eye\");\n",
    "            } else {\n",
    "                passwordField.type = \"password\";\n",
    "                icon.classList.remove(\"fa-eye\");\n",
    "                icon.classList.add(\"fa-eye-slash\");\n",
    "            }\n",
    "        }\n",
    "    </script>\n",
    "    <style>\n",
    "        /* Styles for password visibility toggle */\n",
    "        .password-container {\n",
    "            position: relative;\n",
    "        }\n",
    "        .password-container i {\n",
    "            position: absolute;\n",
    "            right: 10px;\n",
    "            top: 50%;\n",
    "            transform: translateY(-50%);\n",
    "            cursor: pointer;\n",
    "        }\n",
    "    </style>\n",
    "</head>\n",
    "<body>\n",
    "    <div class=\"container\">\n",
    "        <!-- Password and Confirm Password Fields -->\n",
    "        <div class=\"form-group mb-2 mr-sm-2 password-container\">\n",
    "            <label for=\"password\">Password:</label>\n",
    "            <input type=\"password\" id=\"password\">\n",
    "            <i class=\"fas fa-eye-slash\" id=\"eye-icon-password\" onclick=\"togglePasswordVisibility('password', 'eye-icon-password')\"></i>\n",
    "        </div>\n",
    "\n",
    "        <div class=\"form-group mb-2 mr-sm-2 password-container confirm-password-container\">\n",
    "            <label for=\"confirm_password\">Confirm Password:</label>\n",
    "            <input type=\"password\" id=\"confirm_password\">\n",
    "            <i class=\"fas fa-eye-slash\" id=\"eye-icon-confirm-password\" onclick=\"togglePasswordVisibility('confirm_password', 'eye-icon-confirm-password')\"></i>\n",
    "        </div>\n",
    "    </div>\n",
    "</body>\n",
    "</html>\n"
   ]
  },
  {
   "cell_type": "markdown",
   "metadata": {},
   "source": [
    "I wish I was able to implement more features, however I was limited in the amount of time I had to complete this because I was trying to fix the 500 error with Nandan the entire time."
   ]
  },
  {
   "cell_type": "markdown",
   "metadata": {},
   "source": [
    "# MCQ Correcftions:\n",
    "\n",
    "Q8:\n",
    "I selected B instead of the correct answer, C. I believe in teh moment, when I saw this, I automatically assunmed that not giving any sort of input would result in an error, however, that is not the case and answer B is correct\n",
    "\n",
    "Q9:\n",
    "I dont know how I got answer C, but answer B is correct because you need to do i-1 since only i would result in an arrayindexoutofboundsexception being thrown\n",
    "\n",
    "Q10:\n",
    "Once again, I dont know why I selected answer D for this. Data containing only one elemnt would worok fine in this case and should not result in an error. However, answer II does result in an error because it eventually causes an arrayindexoutofboundsexception\n",
    "\n",
    "Q17:\n",
    "I meant to select C, but I must have made a mistake while doing this. The answer is 1,2,3,5,6,7,7 because the 3 gets replaced with a 7 at the end since it uses k = 3.\n",
    "\n",
    "Q18:\n",
    "I could not understand the explanation, but according to Nandan, if you use math.random, you dont need to use -1 because you always get 0 or lower.\n",
    "\n",
    "Q19:\n",
    "I feel like this question is designed for you to fail, it uses a triple not statement, which is extremely confusing. The correct answer for this would be B\n",
    "\n",
    "Q23:\n",
    "I made this mistake of assuming x>0 instead of x>1, leading to me getting D intead of B\n",
    "\n",
    "Q24:\n",
    "24 is 7 because its rows, columns instead of me assumming it would be 2 over with the code [0][2] instead of being 2 columbs down and 0 rows over\n",
    "\n",
    "Q28:\n",
    "If the value of n is 2 or less in the original call to the method mystery, the loop will be skipped and x will be 1 at //Point C.\n",
    "\n",
    "Q36:\n",
    "When x is 7, y will be assigned the value 1, since 7 is odd and not greater than 9. When x is 9, y will be assigned the value 1, since 9 is odd and not greater than 9. When x is 11, y will be assigned the value 5, since 11 is odd and greater than 9. This set of values does not test the conditions when x is even and y is assigned the value 3.\n",
    "\n",
    "Q37:\n",
    "I got A for this, however, III is also correct and I dont know why I got this question wrong.\n",
    "\n",
    "Q38:\n",
    "I got or instead of and for this, this would always result in greatehr than 1000 or less than 1500\n",
    "\n"
   ]
  },
  {
   "cell_type": "markdown",
   "metadata": {},
   "source": []
  }
 ],
 "metadata": {
  "language_info": {
   "name": "python"
  }
 },
 "nbformat": 4,
 "nbformat_minor": 2
}
