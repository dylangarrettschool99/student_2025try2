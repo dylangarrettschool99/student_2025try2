{
 "cells": [
  {
   "cell_type": "markdown",
   "metadata": {},
   "source": [
    "---\n",
    "layout: post\n",
    "toc: false\n",
    "comments: true\n",
    "---"
   ]
  },
  {
   "cell_type": "markdown",
   "metadata": {},
   "source": [
    "# Looking back at team teach\n",
    "I was part of the punching bag known as group 9, while we didnt do as good presenting as the other groups. I feel like most people that did the popcorn hacks and red through everything instead of just copying and pasting the code into ChatGPT were able to undestand it."
   ]
  },
  {
   "cell_type": "markdown",
   "metadata": {},
   "source": [
    "# Sprint 2 Review/Notes\n",
    "\n",
    "In this notebook, I reflect on several key programming concepts in Java, including arrays, objects, 2D arrays, classes, ArrayLists, and inheritance. Each section includes a code example along with my explanations."
   ]
  },
  {
   "cell_type": "markdown",
   "metadata": {},
   "source": [
    "## Unit 6 - Arrays\n",
    "Arrays are data structures that can hold multiple values of the same type. They allow me to store lists of items in a single variable."
   ]
  },
  {
   "cell_type": "code",
   "execution_count": 1,
   "metadata": {},
   "outputs": [],
   "source": [
    "// Example of an array in Java\n",
    "public class ArrayExample {\n",
    "    public static void main(String[] args) {\n",
    "        int[] numbers = {1, 2, 3, 4, 5};\n",
    "        // Accessing the first element in the array\n",
    "        int firstNumber = numbers[0];\n",
    "        System.out.println(\"The first number is: \" + firstNumber);\n",
    "    }\n",
    "}"
   ]
  },
  {
   "cell_type": "markdown",
   "metadata": {},
   "source": [
    "In this example, I created an array called `numbers` that holds five integers. I accessed the first element of the array using its index (0) and printed it."
   ]
  },
  {
   "cell_type": "markdown",
   "metadata": {},
   "source": [
    "## Unit 2 - Using Objects\n",
    "Objects are instances of classes that encapsulate data and functionality. They enable me to model real-world entities in my code."
   ]
  },
  {
   "cell_type": "code",
   "execution_count": 2,
   "metadata": {},
   "outputs": [],
   "source": [
    "// Example of using an object in Java\n",
    "class Dog {\n",
    "    String name;\n",
    "\n",
    "    Dog(String name) {\n",
    "        this.name = name;\n",
    "    }\n",
    "\n",
    "    String bark() {\n",
    "        return name + \" says woof!\";\n",
    "    }\n",
    "}\n",
    "\n",
    "public class ObjectExample {\n",
    "    public static void main(String[] args) {\n",
    "        Dog myDog = new Dog(\"Rex\");\n",
    "        System.out.println(myDog.bark());\n",
    "    }\n",
    "}"
   ]
  },
  {
   "cell_type": "markdown",
   "metadata": {},
   "source": [
    "In this example, I defined a class `Dog` with a constructor that initializes its `name`. I also defined a method `bark` that returns a string. Then, I created an instance of `Dog` and called its `bark` method."
   ]
  },
  {
   "cell_type": "markdown",
   "metadata": {},
   "source": [
    "## Unit 8 - 2D Arrays\n",
    "Taught: 9/27\n",
    "\n",
    "2D arrays are arrays of arrays, allowing me to represent tabular data. They can be useful for matrices or grids."
   ]
  },
  {
   "cell_type": "code",
   "execution_count": 3,
   "metadata": {},
   "outputs": [],
   "source": [
    "// Example of a 2D array in Java\n",
    "public class TwoDArrayExample {\n",
    "    public static void main(String[] args) {\n",
    "        int[][] matrix = {\n",
    "            {1, 2, 3},\n",
    "            {4, 5, 6},\n",
    "            {7, 8, 9}\n",
    "        };\n",
    "        // Accessing an element in the 2D array\n",
    "        int element = matrix[1][2]; // Access the element at row 1, column 2\n",
    "        System.out.println(\"The accessed element is: \" + element);\n",
    "    }\n",
    "}"
   ]
  },
  {
   "cell_type": "markdown",
   "metadata": {},
   "source": [
    "In this example, I created a 2D array called `matrix`. I accessed an element at row 1, column 2 and printed it."
   ]
  },
  {
   "cell_type": "markdown",
   "metadata": {},
   "source": [
    "## Unit 5 - Writing Classes\n",
    "Taught: 10/1\n",
    "\n",
    "Classes are blueprints for creating objects. They define properties and methods that the objects created from them will have."
   ]
  },
  {
   "cell_type": "code",
   "execution_count": 4,
   "metadata": {},
   "outputs": [],
   "source": [
    "// Example of a class in Java\n",
    "class Car {\n",
    "    String make;\n",
    "    String model;\n",
    "\n",
    "    Car(String make, String model) {\n",
    "        this.make = make;\n",
    "        this.model = model;\n",
    "    }\n",
    "\n",
    "    String describe() {\n",
    "        return \"This car is a \" + make + \" \" + model;\n",
    "    }\n",
    "}\n",
    "\n",
    "public class ClassExample {\n",
    "    public static void main(String[] args) {\n",
    "        Car myCar = new Car(\"Toyota\", \"Corolla\");\n",
    "        System.out.println(myCar.describe());\n",
    "    }\n",
    "}"
   ]
  },
  {
   "cell_type": "markdown",
   "metadata": {},
   "source": [
    "In this example, I defined a `Car` class with properties for `make` and `model`. I created an instance of the class and called the `describe` method to print its details."
   ]
  },
  {
   "cell_type": "markdown",
   "metadata": {},
   "source": [
    "## Unit 7 - ArrayLists\n",
    "Taught: 10/2\n",
    "\n",
    "ArrayLists are dynamic arrays that can grow and shrink in size. They provide more flexibility compared to regular arrays."
   ]
  },
  {
   "cell_type": "code",
   "execution_count": 5,
   "metadata": {},
   "outputs": [],
   "source": [
    "// Example of an ArrayList in Java\n",
    "import java.util.ArrayList;\n",
    "\n",
    "public class ArrayListExample {\n",
    "    public static void main(String[] args) {\n",
    "        ArrayList<String> arrayList = new ArrayList<>();\n",
    "        // Adding elements to the ArrayList\n",
    "        arrayList.add(\"apple\");\n",
    "        arrayList.add(\"banana\");\n",
    "        // Removing an element\n",
    "        arrayList.remove(\"apple\");\n",
    "        // Displaying the ArrayList\n",
    "        System.out.println(\"The ArrayList contains: \" + arrayList);\n",
    "    }\n",
    "}"
   ]
  },
  {
   "cell_type": "markdown",
   "metadata": {},
   "source": [
    "In this example, I used an `ArrayList` to demonstrate its dynamic behavior. I added elements using `add`, removed an element using `remove`, and printed the current contents of the list."
   ]
  },
  {
   "cell_type": "markdown",
   "metadata": {},
   "source": [
    "## Unit 9 - Inheritance\n",
    "Taught: 10/4\n",
    "\n",
    "Inheritance allows me to create a new class based on an existing class. The new class inherits attributes and methods from the base class."
   ]
  },
  {
   "cell_type": "code",
   "execution_count": 6,
   "metadata": {},
   "outputs": [],
   "source": [
    "// Example of inheritance in Java\n",
    "class Animal {\n",
    "    String speak() {\n",
    "        return \"Animal sound\";\n",
    "    }\n",
    "}\n",
    "\n",
    "class Dog extends Animal {\n",
    "    @Override\n",
    "    String speak() {\n",
    "        return \"Woof!\";\n",
    "    }\n",
    "}\n",
    "\n",
    "public class InheritanceExample {\n",
    "    public static void main(String[] args) {\n",
    "        Dog myDog = new Dog();\n",
    "        System.out.println(myDog.speak());\n",
    "    }\n",
    "}"
   ]
  },
  {
   "cell_type": "markdown",
   "metadata": {},
   "source": [
    "In this example, I defined a base class `Animal` with a `speak` method. The `Dog` class inherits from `Animal` and overrides the `speak` method. I created an instance of `Dog` and called its `speak` method."
   ]
  },
  {
   "cell_type": "markdown",
   "metadata": {},
   "source": [
    "# Conclusion\n",
    "In this notebook, I provided an overview of essential programming concepts in Java, including arrays, objects, 2D arrays, classes, ArrayLists, and inheritance. Each example demonstrates the core functionality and purpose of these concepts."
   ]
  }
 ],
 "metadata": {
  "kernelspec": {
   "display_name": "Java",
   "language": "java",
   "name": "java"
  },
  "language_info": {
   "name": "java",
   "version": "17"
  }
 },
 "nbformat": 4,
 "nbformat_minor": 4
}
