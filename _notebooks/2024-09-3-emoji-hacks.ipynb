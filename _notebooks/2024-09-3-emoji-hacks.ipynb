{
 "cells": [
  {
   "cell_type": "markdown",
   "metadata": {
    "vscode": {
     "languageId": "java"
    }
   },
   "source": [
    "---\n",
    "layout: post\n",
    "title: Emoji Hacks\n",
    "description: emoji hacks\n",
    "comments: True\n",
    "---"
   ]
  },
  {
   "cell_type": "code",
   "execution_count": 1,
   "metadata": {},
   "outputs": [
    {
     "data": {
      "text/markdown": [
       "CNN —\n",
       "\n",
       "The great showman just turned his back on tens of millions of viewers.\n",
       "\n",
       "At least for now.\n",
       "\n",
       "Donald Trump’s refusal to take part in another presidential debate with Democratic nominee Kamala Harris marks a significant moment in the 2024 campaign — and hints at vulnerability for a political career built on the foundation of his television fame and mastery of stagecraft.\n",
       "\n",
       "The ex-president said he doesn’t need a rematch because he won Tuesday night’s debate, despite overwhelming reviews saying he bombed against a vice president who outdid a former reality star.\n",
       "\n",
       "“Because we’ve done two debates and because they were successful, there will be no third debate. It’s too late anyway, the voting’s already begun,” Trump said during a wild campaign speech in Arizona on Thursday, also referring to his first debate against Joe Biden, on CNN in June, that led to the president being pushed out of the race by his own party.\n",
       "\n",
       "But there’s an alternative possible explanation: that Trump — who normally can’t resist a chance to dominate the small screen — doesn’t relish a repeat of a showdown in which he was unprepared and unfocused and squandered his best chance to take down his opponent in a cliffhanger election. The former president might be right to mitigate the risk; after all, polls show he’s in a dead heat with Harris in a race in which the fundamentals on top voter priorities like the economy and immigration may favor him.\n",
       "\n",
       "After Tuesday’s onstage meeting, Harris had said that she and her opponent owed it to voters to debate again. Trump’s move opened the way for her team to gloat that he is scared to debate her and to boost a performance in which she mocked and rebuked an ill-tempered ex-president with a swagger and a smile. Harris’ senior campaign adviser, David Plouffe, blasted Trump on X as “chicken man.”\n",
       "\n",
       "The Republican nominee often changes his mind. But his announcement on there not being another debate seemed more adamant than many of his previous statements and spin.\n",
       "\n",
       "His event in Arizona — apparently meant to focus on economic policy, judging by a backdrop that read “No taxes on tips” and “Make Housing Affordable” — revealed Trump to be still fuming over Tuesday night. He devoted a long period at the start of his speech to a play-by-play of the debate, bitterly complaining about Harris’ answers and claiming that he was set up by ABC News. His litany of complaints, however, flew in the face of his claim he won. “People said that I was angry at the debate, angry, and yes, I am angry because he (Biden) allowed 21 million illegal aliens invading our communities,” Trump said, using unverified figures on undocumented migration.\n",
       "\n",
       "Laura Loomer arrives with former President Donald Trump for a visit to the Shanksville Volunteer Fire Company in Shanksville, Pennsylvania, on September 11, 2024. Matt Rourke/AP\n",
       "\n",
       "Harris insists she’s an underdog and a new controversy embroils Trump\n",
       "\n",
       "Trump’s turn against a second debate with Harris came as both candidates headed out on the most intense burst of tit-for-tat campaigning in days. But Trump was also embroiled in yet another controversy over the extreme company he often keeps, after traveling to a 9/11 commemoration with far-right polemicist Laura Loomer, who has touted conspiracy theories about the 2001 attacks. Even Marjorie Taylor Greene, the Georgia congresswoman whose conspiratorial mindset has endeared her to the “Make America Great Again” movement, rebuked Loomer for an “appalling and extremely racist” social media post that denigrated Harris’ Indian American heritage.\n",
       "\n",
       "The furor over whether there’ll be another debate and Loomer’s proximity to Trump are examples of the heated controversies that flare in the endgames of campaigns, which can often appear irrelevant to the final result. But with a tight race now stripped down to a daily grind for possibly as few as several hundred thousand voters in a few states, such firestorms reveal a great deal about the candidates and their campaigns.\n",
       "\n",
       "Trump’s extreme defensiveness and Harris’ exuberance on the stump in North Carolina on Thursday paint a picture of how each campaign thinks its candidate did at the debate.\n",
       "\n",
       "As she did after her euphoric convention in Chicago, the Democratic nominee pleaded with her supporters not to get complacent. “Understand that we are the underdog,” the vice president told a huge crowd in Charlotte.\n",
       "\n",
       "It’s still too early for a critical mass of polling that could trace the true impact of the debate on the race eight weeks before Election Day. And the result of debates is often not a good predictor of an election result.\n",
       "\n",
       "But the candidates’ itineraries Thursday showed that each side understands how close the election could be. Democrats haven’t won North Carolina since 2008, but the state could help pave an alternative road to the White House if Harris can’t win critical Pennsylvania. Trump’s journey to Arizona stressed that a state that once seemed to be turning red when Biden was still running is now competitive again with Harris as a nominee who has expanded the electoral map for Democrats.\n",
       "\n",
       "Vice President and Democratic presidential candidate Kamala Harris walks on stage to speak at a campaign rally at the Bojangles Coliseum in Charlotte, North Carolina, on September 12, 2024. Jim Watson/AFP/Getty Images\n",
       "\n",
       "Both candidates need to win over moderate, suburban, swing voters in the battleground states. And they are taking vastly different approaches to doing so. Harris on Thursday vowed to unite the country and courted traditional Republicans who are disaffected with Trump. She touted her endorsements from former GOP Vice President Dick Cheney and his daughter, former Wyoming Rep. Liz Cheney, and added, “Democrats, Republicans and independents are supporting our campaign.”\n",
       "\n",
       "If Harris is trying to woo the suburbs, Trump is trying to scare them. He ruminated on a series of dark scenarios around the idea that America was being invaded by foreigners, escaped prisoners and criminals who were overwhelming small towns with “Harris migrant crime.” He repeated the conservative-spread false claims that Haitian migrants in Springfield, Ohio, are stealing and eating pets. While he occasionally reverted to what appeared to be a prepared text that highlighted Americans’ economic struggles – he announced that he would propose ending taxes on overtime, for example – Trump displayed the exact same lack of focus that hampered him in his debate performance. And he again appeared keener to unroll his outlandish rhetoric and dark jokes than hitting the issues that could win him the election.\n",
       "\n",
       "At times, Trump careened into bizarre diversions. For instance, and not for the first time, he seemed fixated by the size of a large man in the auditorium. He asked, “Wasn’t ‘The Apprentice’ a great show, though?” and wistfully reminisced about the final night of his election campaign in 2016. He also relayed conversations with former first lady Melania Trump in which he called her “Darling” and she critiqued his jokes, his hair and his habit of mocking the way Biden walked down a flight of stairs.\n",
       "\n",
       "It’s becoming increasingly obvious that Trump is underperforming his own campaign. His hard-hitting ads and his vice-presidential nominee, JD Vance, are making sharper economic arguments than he is.\n",
       "\n",
       "Still, Trump still leads Harris in most polls when voters are asked who they trust most to manage the economy and immigration. So while his rhetoric seems egregious to many liberals, his message clearly resonates among millions of Americans. The economic argument, buried deep in his tirade, about the performance of the Biden-Harris administration hinted at the reasons why the former president may still win the election. His behavior for most of his Arizona speech showed why he may not.\n",
       "\n",
       "Vice President and Democratic presidential candidate Kamala Harris speaks as former President and Republican presidential candidate Donald Trump listens during a presidential debate at the National Constitution Center in Philadelphia, Pennsylvania, on September 10, 2024. Saul Loeb/AFP/Getty Images\n",
       "\n",
       "Will Trump stick to his refusal to debate Harris again?\n",
       "\n",
       "The ex-president’s continued ill-discipline on Thursday suggests one reason why his campaign may not want their candidate to climb back on a debate stage – after 60 million people watched his first meeting with Harris.\n",
       "\n",
       "But Bryan Lanza, a senior Trump campaign advisor, insisted that this was a tactical decision. “It’s not a function of being scared, it’s a function of what are our priorities towards the end of the election,” he said on CNN’s “The Situation Room.” Lanza added: “We have better opportunities through one-on-one interviews — through our rallies, through going into these states and having this impact – than going into a debate that is going to stack the deck against President Trump.”\n",
       "\n",
       "But Illinois Gov. JB Pritzker, a Democrat, said Harris had intimidated the former president. “Donald Trump was weak, he honestly came across as a little desperate,” Pritzker told Wolf Blitzer. “Kamala Harris came across as strong and presidential. If he had another debate with her and it happened again, that would be it for his campaign – he would be done.”\n",
       "\n",
       "Pritzker was spinning the best case for Harris. But she might not perform as well in a second debate. And in 2016, Democratic nominee Hillary Clinton was judged the winner of each of her debates with Trump – but it was he who took the oath of office the following January.\n",
       "\n",
       "Not everyone who knows Trump thinks that his decision is final. Alyssa Farah Griffin, a CNN commentator who used to serve as Trump’s White House communications director, foresaw a scenario in which the ex-president might have a change of heart if he is trailing closer to Election Day.\n",
       "\n",
       "“I would predict that he may change his tune on this,” Griffin said on “The Situation Room.”\n",
       "\n",
       "“If Kamala Harris sees a bump in the polls from her performance in the debate where most folks think she won, I could see a world where in a couple of weeks Donald Trump says, ‘I challenge her to a debate,’” Griffin said.\n",
       "\n",
       "“I could see him thinking, if things get a little bit tighter in the final eight-week stretch, he might need a big moment to remain competitive against her.”"
      ],
      "text/plain": [
       "<IPython.core.display.Markdown object>"
      ]
     },
     "metadata": {},
     "output_type": "display_data"
    },
    {
     "name": "stdout",
     "output_type": "stream",
     "text": [
      "\n",
      "\n"
     ]
    }
   ],
   "source": [
    "from newspaper import Article\n",
    "from IPython.display import display, Markdown\n",
    "\n",
    "num_urls = int(input(\"How many articles do you want? \"))\n",
    "\n",
    "urls = []\n",
    "for x in range(num_urls):\n",
    "    url_input = str(input(\"Type in your URL link: \"))\n",
    "    urls.append(url_input)\n",
    "\n",
    "information_input = input(\"What info do you want to see from the article? (a for authors, t for text): \")\n",
    "\n",
    "if information_input.lower() == \"a\":\n",
    "    for url in urls:\n",
    "        article = Article(url)\n",
    "        article.download()\n",
    "        article.parse()\n",
    "        display(article.authors)\n",
    "elif information_input.lower() == \"t\":\n",
    "    for url in urls:\n",
    "        article = Article(url)\n",
    "        article.download()\n",
    "        article.parse()\n",
    "        display(Markdown(article.text))\n",
    "        print(\"\\n\")\n",
    "else:\n",
    "    print(\"put in a correct type of input dummy\")\n"
   ]
  },
  {
   "cell_type": "code",
   "execution_count": 7,
   "metadata": {},
   "outputs": [
    {
     "name": "stdout",
     "output_type": "stream",
     "text": [
      "this is working 👍\n"
     ]
    }
   ],
   "source": [
    "import emoji\n",
    "\n",
    "while True:\n",
    "    message = str(input(\"Say what you want: \"))\n",
    "    emoji_type = str(input(\"Type the kind of emoji that you want (T, H)\"))\n",
    "    if emoji_type.lower() == \"t\":\n",
    "        print(message + \" \" + emoji.emojize(':thumbs_up:'))\n",
    "        break\n",
    "    elif emoji_type.lower() == \"h\":\n",
    "        print(message + \" \" + emoji.emojize(':red_heart:'))\n",
    "        break\n",
    "else:\n",
    "    print(\"read the thing above dummy\")\n"
   ]
  }
 ],
 "metadata": {
  "kernelspec": {
   "display_name": "Python 3",
   "language": "python",
   "name": "python3"
  },
  "language_info": {
   "codemirror_mode": {
    "name": "ipython",
    "version": 3
   },
   "file_extension": ".py",
   "mimetype": "text/x-python",
   "name": "python",
   "nbconvert_exporter": "python",
   "pygments_lexer": "ipython3",
   "version": "3.12.3"
  }
 },
 "nbformat": 4,
 "nbformat_minor": 2
}
