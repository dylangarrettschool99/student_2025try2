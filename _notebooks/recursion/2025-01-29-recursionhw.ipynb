{
 "cells": [
  {
   "cell_type": "markdown",
   "metadata": {},
   "source": [
    "recursion homework"
   ]
  },
  {
   "cell_type": "code",
   "execution_count": 3,
   "metadata": {
    "vscode": {
     "languageId": "java"
    }
   },
   "outputs": [
    {
     "name": "stdout",
     "output_type": "stream",
     "text": [
      "Factorial of 5 is: 120\n"
     ]
    }
   ],
   "source": [
    "// Define the factorial method\n",
    "public static int factorial(int target) {\n",
    "    if (target <= 1) {\n",
    "        return 1;\n",
    "    }\n",
    "    return target * factorial(target - 1);\n",
    "}\n",
    "\n",
    "// Test the factorial function and output results\n",
    "int result = factorial(5);  // Calculate 5!\n",
    "System.out.println(\"Factorial of 5 is: \" + result);"
   ]
  },
  {
   "cell_type": "code",
   "execution_count": 5,
   "metadata": {
    "vscode": {
     "languageId": "java"
    }
   },
   "outputs": [
    {
     "name": "stdout",
     "output_type": "stream",
     "text": [
      "Sum of array: 15\n"
     ]
    }
   ],
   "source": [
    "// Define the sumArray method\n",
    "public static int sumArray(int[] arr, int index) {\n",
    "    // Base case: If the index is equal to the length of the array, return 0\n",
    "    if (index == arr.length) {\n",
    "        return 0;\n",
    "    }\n",
    "\n",
    "    // Recursive case: return the current element + sum of the rest of the array\n",
    "    return arr[index] + sumArray(arr, index + 1);\n",
    "}\n",
    "\n",
    "// Test the sumArray function\n",
    "int[] numbers = {1, 2, 3, 4, 5};  // Define the array\n",
    "int result = sumArray(numbers, 0);  // Calculate the sum starting from index 0\n",
    "System.out.println(\"Sum of array: \" + result);  // Output the result\n"
   ]
  },
  {
   "cell_type": "code",
   "execution_count": 6,
   "metadata": {
    "vscode": {
     "languageId": "java"
    }
   },
   "outputs": [
    {
     "name": "stdout",
     "output_type": "stream",
     "text": [
      "Sorted array: 9 6 5 5 2 1 "
     ]
    }
   ],
   "source": [
    "// Define the recursive selection sort method\n",
    "public static void selectionSort(int[] arr, int index) {\n",
    "    // Base case: If index reaches the length of the array, sorting is complete\n",
    "    if (index == arr.length) {\n",
    "        return;\n",
    "    }\n",
    "\n",
    "    // Find the maximum element in the unsorted part of the array\n",
    "    int maxIndex = index;\n",
    "    for (int i = index + 1; i < arr.length; i++) {\n",
    "        if (arr[i] > arr[maxIndex]) {\n",
    "            maxIndex = i;\n",
    "        }\n",
    "    }\n",
    "\n",
    "    // Swap the found maximum element with the last element of the unsorted part\n",
    "    int temp = arr[maxIndex];\n",
    "    arr[maxIndex] = arr[index];\n",
    "    arr[index] = temp;\n",
    "\n",
    "    // Recursively call selectionSort on the remaining unsorted part\n",
    "    selectionSort(arr, index + 1);\n",
    "}\n",
    "\n",
    "// Test the selectionSort function\n",
    "int[] numbers = {5, 2, 9, 1, 5, 6};  // Define the array\n",
    "selectionSort(numbers, 0);  // Call the selectionSort function starting from index 0\n",
    "\n",
    "// Output the sorted array\n",
    "System.out.print(\"Sorted array: \");\n",
    "for (int num : numbers) {\n",
    "    System.out.print(num + \" \");\n",
    "}\n"
   ]
  },
  {
   "cell_type": "code",
   "execution_count": 7,
   "metadata": {
    "vscode": {
     "languageId": "java"
    }
   },
   "outputs": [
    {
     "name": "stdout",
     "output_type": "stream",
     "text": [
      "Sum of 2D array: 45\n"
     ]
    }
   ],
   "source": [
    "// Define the sumArray method\n",
    "public static int sumArray(int[][] arr, int x_index, int y_index) {\n",
    "    // Base case: If x_index is out of bounds, return 0\n",
    "    if (x_index == arr.length) {\n",
    "        return 0;\n",
    "    }\n",
    "\n",
    "    // Base case: If y_index is out of bounds (end of the row), move to the next row\n",
    "    if (y_index == arr[x_index].length) {\n",
    "        return sumArray(arr, x_index + 1, 0); // Move to the next row and reset column index\n",
    "    }\n",
    "\n",
    "    // Add current element to the sum and recurse to the next element in the row\n",
    "    return arr[x_index][y_index] + sumArray(arr, x_index, y_index + 1);\n",
    "}\n",
    "\n",
    "// Test the sumArray function\n",
    "int[][] numbers = {\n",
    "    {1, 2, 3},\n",
    "    {4, 5, 6},\n",
    "    {7, 8, 9}\n",
    "};\n",
    "\n",
    "// Call the sumArray function starting from the top-left corner (0, 0)\n",
    "int result = sumArray(numbers, 0, 0);\n",
    "\n",
    "// Output the result\n",
    "System.out.println(\"Sum of 2D array: \" + result);\n"
   ]
  },
  {
   "cell_type": "code",
   "execution_count": 12,
   "metadata": {
    "vscode": {
     "languageId": "java"
    }
   },
   "outputs": [
    {
     "name": "stdout",
     "output_type": "stream",
     "text": [
      "Students sorted by performance score (Descending order):\n",
      "aadit - Performance Score: 578\n",
      "srijus - Performance Score: 573\n",
      "shubs - Performance Score: 556\n",
      "erox - Performance Score: 548\n",
      "aashray - Performance Score: 318\n"
     ]
    }
   ],
   "source": [
    "// Define the Student class\n",
    "public class Student {\n",
    "    String name;\n",
    "    int efficiency, collab, iq;\n",
    "    int performanceScore;\n",
    "\n",
    "    public Student(String name, int efficiency, int collab, int iq) {\n",
    "        this.name = name;\n",
    "        this.efficiency = efficiency;\n",
    "        this.collab = collab;\n",
    "        this.iq = iq;\n",
    "        this.performanceScore = calculatePerformanceScore();\n",
    "    }\n",
    "\n",
    "    public int calculatePerformanceScore() {\n",
    "        return (collab * 2) + (iq * 3) + efficiency;\n",
    "    }\n",
    "}\n",
    "\n",
    "// Recursive Selection Sort to sort students by performance score\n",
    "public static void selectionSort(Student[] students, int index) {\n",
    "    // Base case: If index reaches the end of the array, return\n",
    "    if (index == students.length - 1) {\n",
    "        return;\n",
    "    }\n",
    "\n",
    "    // Find the student with the highest performance score from index to end\n",
    "    int maxIndex = index;\n",
    "    for (int i = index + 1; i < students.length; i++) {\n",
    "        if (students[i].performanceScore > students[maxIndex].performanceScore) {\n",
    "            maxIndex = i;\n",
    "        }\n",
    "    }\n",
    "\n",
    "    // Swap the students\n",
    "    Student temp = students[maxIndex];\n",
    "    students[maxIndex] = students[index];\n",
    "    students[index] = temp;\n",
    "\n",
    "    // Recursively call selectionSort to sort the remaining array\n",
    "    selectionSort(students, index + 1);\n",
    "}\n",
    "\n",
    "// Now, let's create and sort the students in the `ijava` cell.\n",
    "\n",
    "Student[] students = {\n",
    "    new Student(\"srijus\", 92, 98, 95),\n",
    "    new Student(\"aadit\", 97, 95, 97),\n",
    "    new Student(\"erox\", 89, 90, 93),\n",
    "    new Student(\"shubs\", 90, 92, 94),\n",
    "    new Student(\"aashray\", 59, 50, 53)\n",
    "};\n",
    "\n",
    "// Sort the students by performance score\n",
    "selectionSort(students, 0);\n",
    "\n",
    "// Output the sorted students by performance score\n",
    "System.out.println(\"Students sorted by performance score (Descending order):\");\n",
    "for (Student student : students) {\n",
    "    System.out.println(student.name + \" - Performance Score: \" + student.performanceScore);\n",
    "}\n"
   ]
  }
 ],
 "metadata": {
  "kernelspec": {
   "display_name": "Java",
   "language": "java",
   "name": "java"
  },
  "language_info": {
   "codemirror_mode": "java",
   "file_extension": ".jshell",
   "mimetype": "text/x-java-source",
   "name": "Java",
   "pygments_lexer": "java",
   "version": "17.0.13+11-Ubuntu-2ubuntu124.04"
  }
 },
 "nbformat": 4,
 "nbformat_minor": 2
}
