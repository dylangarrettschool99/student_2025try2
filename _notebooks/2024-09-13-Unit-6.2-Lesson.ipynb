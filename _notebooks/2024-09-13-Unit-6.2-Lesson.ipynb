{
 "cells": [
  {
   "cell_type": "markdown",
   "metadata": {
    "vscode": {
     "languageId": "raw"
    }
   },
   "source": [
    "---\n",
    "layout: post\n",
    "title: Unit 6.2 Lesson\n",
    "type: collab \n",
    "toc: false\n",
    "permalink: /csa/unit6_p3/6.2/\n",
    "---"
   ]
  },
  {
   "cell_type": "markdown",
   "metadata": {},
   "source": [
    "# 6.2 Traversing Arrays\n",
    "Using iterative statements (such as standard for loops and while loops) to traverse each element in an array.\n",
    "<br>\n",
    "\n",
    "## Traversing using a `for` loop\n",
    "\n",
    "- **Traversing** an array means to access each element of an array.\n",
    "    - Since an array is indexed from 0 to the number of elements -1, a standard for loop is a convenient way to accomplish traversal of an array.\n",
    "\n",
    "The `for` loop is used to iterate over a sequence of elements. The syntax of the `for` loop is as follows:\n",
    "<br>\n",
    "```java\n",
    "for (initialization; condition; increment/decrement) {\n",
    "    // code to be executed\n",
    "}\n",
    "```\n",
    "\n",
    "![forloopimage](https://www.w3resource.com/w3r_images/java-for-loop-image1.png)\n"
   ]
  },
  {
   "cell_type": "code",
   "execution_count": 2,
   "metadata": {
    "vscode": {
     "languageId": "java"
    }
   },
   "outputs": [
    {
     "name": "stdout",
     "output_type": "stream",
     "text": [
      "[29, 2, 12, 55, 85]\n"
     ]
    }
   ],
   "source": [
    "public static void main(String[] args) {    \n",
    "    int[] list = new int[5];\n",
    "    for (int index =0; index < list.length; index++) {\n",
    "        list[index] = (int) (Math.random() * 100);\n",
    "    }\n",
    "    System.out.println(Arrays.toString(list));\n",
    "}\n",
    "main(null);"
   ]
  },
  {
   "cell_type": "markdown",
   "metadata": {},
   "source": [
    "### What does the code above do?\n",
    "\n",
    "- A for loop can also be used to access only some of the elements in an array"
   ]
  },
  {
   "cell_type": "code",
   "execution_count": 3,
   "metadata": {
    "vscode": {
     "languageId": "java"
    }
   },
   "outputs": [
    {
     "name": "stdout",
     "output_type": "stream",
     "text": [
      "[41, 0, 44, 0, 77]\n"
     ]
    }
   ],
   "source": [
    "public static void main(String[] args) {    \n",
    "    int[] list = new int[5];\n",
    "    for (int index =0; index < list.length; index+=2) {\n",
    "        list[index] = (int) (Math.random() * 100);\n",
    "    }\n",
    "    System.out.println(Arrays.toString(list));\n",
    "}\n",
    "main(null);"
   ]
  },
  {
   "cell_type": "markdown",
   "metadata": {
    "vscode": {
     "languageId": "java"
    }
   },
   "source": [
    "### What is the difference of between this code and the previous code? What do you think the output will look like?\n",
    "\n",
    "## For loop : Accessing Some Elements of a List\n",
    "- The for loop can be used to access only some of the elements in an array.\n",
    "\n",
    "### Odd Index only"
   ]
  },
  {
   "cell_type": "code",
   "execution_count": 4,
   "metadata": {
    "vscode": {
     "languageId": "java"
    }
   },
   "outputs": [
    {
     "name": "stdout",
     "output_type": "stream",
     "text": [
      "1\n",
      "3\n",
      "5\n"
     ]
    }
   ],
   "source": [
    "public class oddIndexOnly {\n",
    "    public static void main(String[] args) {\n",
    "        int[] listOfNumbers = new int[] {1, 2, 3, 4, 5};\n",
    "        for (int index=0; index<listOfNumbers.length; index+=2) {\n",
    "            System.out.println(listOfNumbers[index]);\n",
    "        }\n",
    "    }\n",
    "}\n",
    "oddIndexOnly.main(null);"
   ]
  },
  {
   "cell_type": "markdown",
   "metadata": {},
   "source": [
    "### Even Index only"
   ]
  },
  {
   "cell_type": "code",
   "execution_count": 5,
   "metadata": {
    "vscode": {
     "languageId": "java"
    }
   },
   "outputs": [
    {
     "name": "stdout",
     "output_type": "stream",
     "text": [
      "2\n",
      "4\n"
     ]
    }
   ],
   "source": [
    "public class evenIndexOnly {\n",
    "    public static void main(String[] args) {\n",
    "        int[] listOfNumbers = new int[] {1, 2, 3, 4, 5};\n",
    "        for (int index=1; index<listOfNumbers.length; index+=2) {\n",
    "            System.out.println(listOfNumbers[index]);\n",
    "        }\n",
    "    }\n",
    "}\n",
    "evenIndexOnly.main(null);"
   ]
  },
  {
   "cell_type": "markdown",
   "metadata": {},
   "source": [
    "## Popcorn Hack 1\n",
    "\n",
    "Write a method that takes an integer array as input and returns the sum of all even numbers in the array. If there are no even numbers, return 0\n"
   ]
  },
  {
   "cell_type": "code",
   "execution_count": 11,
   "metadata": {
    "vscode": {
     "languageId": "java"
    }
   },
   "outputs": [],
   "source": [
    "public class EvenNumberSum {\n",
    "    public static int sumOfEvenNumbers(int[] arr) {\n",
    "        /*\n",
    "         * This function takes an array of integers as input and returns the sum of all even numbers in the array.\n",
    "         */\n",
    "        int sum = 0; // Initialize sum to 0\n",
    "        \n",
    "        // Iterate through the array\n",
    "        for (int num : arr) {\n",
    "            if (num % 2 == 0) { // Check if the number is even\n",
    "                sum += num; // Add it to the sum\n",
    "            }\n",
    "        }\n",
    "        \n",
    "        return sum; // Return the total sum of even numbers\n",
    "    }\n",
    "\n",
    "    public static void main(String[] args) {\n",
    "        // Example usage:\n",
    "        int[] arr = {1, 2, 3, 4, 5};\n",
    "        int result = sumOfEvenNumbers(arr); // Call the function\n",
    "        System.out.println(\"Sum of even numbers: \" + result); // Print the result\n",
    "    }\n",
    "}\n"
   ]
  },
  {
   "cell_type": "markdown",
   "metadata": {},
   "source": [
    "## For-each loop\n",
    "- The for-each loop is used to traverse an array or a collection in Java\n",
    "- It is easier to use than a standard for loop because it eliminates the need to keep track of the loop variable.\n",
    "\n",
    "```java\n",
    "for (type variableName : arrayName) {\n",
    "    // code to be executed\n",
    "}\n",
    "```\n",
    "<img src=\"https://www.alphacodingskills.com/perl/img/perl-foreach-loop.PNG\" alt=\"for-eachimage\" width=\"500\"/>\n",
    "\n",
    "- The for-each loop doesn't have direct access to the index of the array elements, so it’s not possible to easily skip elements based on their index, like odd or even indices\n",
    "- Solution: Use a separate variable to keep track of the index\n",
    "\n",
    "```java\n",
    "int[] array = {1, 2, 3, 4, 5, 6, 7};\n",
    "int index = 0;\n",
    "\n",
    "for (int num : array) {\n",
    "    if (index % 2 != 0) {  // Check if index is odd\n",
    "        System.out.println(num);\n",
    "    }\n",
    "    index++;\n",
    "}\n",
    "```"
   ]
  },
  {
   "cell_type": "markdown",
   "metadata": {},
   "source": [
    "## Popcorn Hack 2\n",
    "\n",
    "Write a method that traverses an integer array and counts how many times a specific number appears. Make sure to use a **for-each loop**."
   ]
  },
  {
   "cell_type": "code",
   "execution_count": 13,
   "metadata": {
    "vscode": {
     "languageId": "java"
    }
   },
   "outputs": [],
   "source": [
    "public class CountOccurrences {\n",
    "    public static int countOccurrences(int[] arr, int target) {\n",
    "        /*\n",
    "         * This function takes an array of integers and a target integer as input \n",
    "         * and returns the number of times the target integer appears in the array.\n",
    "         */\n",
    "        int count = 0; // Initialize count to 0\n",
    "        \n",
    "        // Iterate through the array\n",
    "        for (int num : arr) {\n",
    "            if (num == target) { // Check if the current number equals the target\n",
    "                count++; // Increment count\n",
    "            }\n",
    "        }\n",
    "        \n",
    "        return count; // Return the total count\n",
    "    }\n",
    "\n",
    "    public static void main(String[] args) {\n",
    "        // Example usage:\n",
    "        int[] arr = {3, 5, 3, 3, 7, 5};\n",
    "        int target = 3;\n",
    "        System.out.println(countOccurrences(arr, target)); // Output: 3\n",
    "    }\n",
    "}\n"
   ]
  },
  {
   "cell_type": "markdown",
   "metadata": {},
   "source": [
    "## Traversing with a `while` loop\n",
    "- The `while` loop is used to iterate over a block of code as long as the condition is true.\n",
    "- The syntax of the `while` loop is as follows:\n",
    "\n",
    "```java\n",
    "while (condition) {\n",
    "    // code to be executed\n",
    "}\n",
    "```\n",
    "\n",
    "### Example of while loop"
   ]
  },
  {
   "cell_type": "code",
   "execution_count": 14,
   "metadata": {
    "vscode": {
     "languageId": "java"
    }
   },
   "outputs": [
    {
     "name": "stdout",
     "output_type": "stream",
     "text": [
      "[13, 70, 53, 43, 54]\n"
     ]
    }
   ],
   "source": [
    "public static void main(String[] args) {    \n",
    "    int[] arr = new int[5];\n",
    "    int position = 0;\n",
    "    while (position < arr.length) {\n",
    "        arr[position] = (int) (Math.random() * 100);\n",
    "        position ++;\n",
    "    }\n",
    "    System.out.println(Arrays.toString(arr));\n",
    "}\n",
    "main(null);"
   ]
  },
  {
   "cell_type": "markdown",
   "metadata": {},
   "source": [
    "Does the while loop accomplish **traversing** the array?<br>\n",
    "Remember that traversing means to access each element of an array.\n",
    "\n",
    "### Both the while loop and the for loop perform the same task. The key difference is that after the while loop finishes, the variable index will still exist.\n",
    "\n",
    "## Popcorn Hack 3\n",
    "\n",
    "Write a method that traverses an array of integers and returns the index of the first negative number. If there are no negative numbers, return -1. Use a **while loop.**"
   ]
  },
  {
   "cell_type": "code",
   "execution_count": 16,
   "metadata": {
    "vscode": {
     "languageId": "java"
    }
   },
   "outputs": [],
   "source": [
    "public class FirstNegativeIndex {\n",
    "    public static int firstNegativeIndex(int[] arr) {\n",
    "        /*\n",
    "         * This function takes an array of integers as input and returns the index of the first negative number in the array. \n",
    "         * If there are no negative numbers in the array, the function should return -1.\n",
    "         */\n",
    "        for (int i = 0; i < arr.length; i++) {\n",
    "            if (arr[i] < 0) { // Check if the current number is negative\n",
    "                return i; // Return the index of the first negative number\n",
    "            }\n",
    "        }\n",
    "        \n",
    "        return -1; // Return -1 if no negative number is found\n",
    "    }\n",
    "\n",
    "    public static void main(String[] args) {\n",
    "        // Example usage:\n",
    "        int[] arr = {4, 7, -2, 5};\n",
    "        System.out.println(firstNegativeIndex(arr)); // Output: 2\n",
    "    }\n",
    "}\n"
   ]
  },
  {
   "cell_type": "markdown",
   "metadata": {},
   "source": [
    "## Bound Errors\n",
    "- When using loops to access array elements, we need to be careful with the condition in order to avoid an `ArrayIndexOutOfBoundsException` being thrown.\n",
    "\n",
    "```java\n",
    "int[] list = new int[5];\n",
    "for (int index =0; index <= list.length; index++) {\n",
    "    list[index] = (int) (Math.random() * 10);\n",
    "}\n",
    "```\n",
    "Or\n",
    "```java\n",
    "int[] arr = new int[5];\n",
    "int position = 0;\n",
    "while (position <= arr.length) {\n",
    "    arr[position] = (int) (Math.random() * 10);\n",
    "    position ++;\n",
    "}\n",
    "```\n",
    "Here, the condition in the for loop is `index <= list.length` or `position <= arr.length`, which will cause an `ArrayIndexOutOfBoundsException` because the index is out of bounds when it is equal to the length of the array.\n",
    "\n",
    "When using loops to access array elements, we also need to be sure we include all of the elements desired. It is easy to miss the first or last element, which is considered an \"off by one\" error.\n",
    "\n",
    "```java\n",
    "int[] list = new int[5];\n",
    "for (int index =0; index < list.length-1; index++) {\n",
    "    list[index] = (int) (Math.random() * 10);\n",
    "}\n",
    "```\n",
    "Or\n",
    "```java\n",
    "int[] arr = new int[5];\n",
    "int position = 1;\n",
    "while (position < arr.length) {\n",
    "    arr[position] = (int) (Math.random() * 10);\n",
    "    position ++;\n",
    "}\n",
    "```\n",
    "What do you think is wrong with both of these loops?\n",
    "\n",
    "## Multiple Choice Question\n",
    "\n",
    "Consider the following code:"
   ]
  },
  {
   "cell_type": "code",
   "execution_count": 18,
   "metadata": {
    "vscode": {
     "languageId": "java"
    }
   },
   "outputs": [
    {
     "name": "stdout",
     "output_type": "stream",
     "text": [
      "3_6_4_"
     ]
    }
   ],
   "source": [
    "String[] list = {\"red\", \"yellow\", \"blue\"};\n",
    "for (int i = 0; i < list.length; i++) {\n",
    "    System.out.print(list[i].length() + \"_\");\n",
    "}"
   ]
  },
  {
   "cell_type": "markdown",
   "metadata": {},
   "source": [
    "<!-- What is displayed after the code is executed?\n",
    "\n",
    "<!-- A. `red_yellow_blue` -->\n",
    "\n",
    "<!-- B. `3_3_3_` -->\n",
    "\n",
    "C. `3_6_4_`\n",
    "\n",
    "<!-- D. `3_3_` -->\n",
    "\n",
    "<!-- E. `3_6_` -->\n",
    "\n",
    "<br>\n",
    "Consider the following code segment which is intended to display every other element in `numbers`, beginning with the first element:\n",
    "\n",
    "```java\n",
    "int[] numbers = {13, 33, 3, -3, -333};\n",
    "for (/*missing*/) {\n",
    "    System.out.print(numbers[i]);\n",
    "}\n",
    "```\n",
    "\n",
    "Which of the following could replace `/*missing code*/` to make the code work as intended?\n",
    "\n",
    "<!-- (A) `int i = 0; i < numbers. length 12; it+`\n",
    "\n",
    "(B) `int i = 1; i ‹ numbers. length; i++` -->\n",
    "\n",
    "(C) `int i = 1; i < numbers.length; i+=2`\n",
    "\n",
    "<!-- (D) `int i = 0; i ‹ numbers.length; i++`\n",
    "\n",
    "(E) `int i = 0; i < numbers.length; i+=2` -->\n",
    "\n",
    "<br>\n",
    "Consider the method which is intended to reverse the order of the elements in `arr`.\n",
    "\n",
    "```java\n",
    "public static void reverseArray (double [] arr) {\n",
    "    for (int i = 0; i < arr.length; i++) {\n",
    "        double temp = arr [i];\n",
    "        arr[i] = arr[arr.length-1-i];\n",
    "        arr[arr.length-1-i] = temp;\n",
    "    }\n",
    "}\n",
    "```\n",
    "\n",
    "Which of the following would fix the method so it works as intended?\n",
    "\n",
    "<!-- (A) Change the loop condition to: \n",
    "\n",
    "```java\n",
    "i < arr. length - 1\n",
    "``` -->\n",
    "\n",
    "(B) Change the loop condition to: \n",
    "\n",
    "```java\n",
    "i < arr.length/2\n",
    "```\n",
    "<!-- \n",
    "(C) Change the loop condition to: \n",
    "\n",
    "```java\n",
    "i < arr.length/2 - 1\n",
    "```\n",
    "\n",
    "(D) Change lines 6 and 7 to:\n",
    "\n",
    "```java\n",
    "arr[1] = arr[arr.length-1];\n",
    "\n",
    "arr [arr.length-i] = temp;\n",
    "```\n",
    "\n",
    "(E) Change the loop body to:\n",
    "\n",
    "```java\n",
    "arr[1] = arr[arr.length-1-1];\n",
    "\n",
    "arr [arr.length-1-1] = arr[i];\n",
    "``` --> -->"
   ]
  },
  {
   "cell_type": "markdown",
   "metadata": {},
   "source": [
    "# Homework Hack\n",
    "\n",
    "**Problem Statement:** Given an array of integers, write a method to find the second largest unique element in the array. If the array has fewer than two distinct elements, return -1.\n"
   ]
  },
  {
   "cell_type": "code",
   "execution_count": 20,
   "metadata": {
    "vscode": {
     "languageId": "java"
    }
   },
   "outputs": [],
   "source": [
    "import java.util.HashSet;\n",
    "import java.util.Set;\n",
    "\n",
    "public class SecondLargestFinder {\n",
    "    \n",
    "    public static int findSecondLargest(int[] arr) {\n",
    "        /*\n",
    "         * This function takes an array of integers as input and returns the second largest unique element in the array. \n",
    "         * If the array has less than 2 distinct elements, the function should return -1.\n",
    "         */\n",
    "        Set<Integer> uniqueElements = new HashSet<>();\n",
    "\n",
    "        // Add each element to the set to ensure uniqueness\n",
    "        for (int num : arr) {\n",
    "            uniqueElements.add(num);\n",
    "        }\n",
    "\n",
    "        // If there are less than 2 unique elements, return -1\n",
    "        if (uniqueElements.size() < 2) {\n",
    "            return -1;\n",
    "        }\n",
    "\n",
    "        // Find the largest and second largest elements\n",
    "        int largest = Integer.MIN_VALUE;\n",
    "        int secondLargest = Integer.MIN_VALUE;\n",
    "\n",
    "        for (int num : uniqueElements) {\n",
    "            if (num > largest) {\n",
    "                secondLargest = largest; // Update second largest\n",
    "                largest = num; // Update largest\n",
    "            } else if (num > secondLargest && num < largest) {\n",
    "                secondLargest = num; // Update second largest\n",
    "            }\n",
    "        }\n",
    "\n",
    "        return secondLargest;\n",
    "    }\n",
    "\n",
    "    public static void main(String[] args) {\n",
    "        int[] arr1 = {3, 1, 4, 1, 5, 9, 2, 6};\n",
    "        System.out.println(findSecondLargest(arr1)); // Output: 6\n",
    "\n",
    "        int[] arr2 = {10, 10, 10, 10};\n",
    "        System.out.println(findSecondLargest(arr2)); // Output: -1\n",
    "    }\n",
    "}\n"
   ]
  }
 ],
 "metadata": {
  "kernelspec": {
   "display_name": "Java",
   "language": "java",
   "name": "java"
  },
  "language_info": {
   "codemirror_mode": "java",
   "file_extension": ".jshell",
   "mimetype": "text/x-java-source",
   "name": "Java",
   "pygments_lexer": "java",
   "version": "17.0.12+7-Ubuntu-1ubuntu224.04"
  }
 },
 "nbformat": 4,
 "nbformat_minor": 2
}
