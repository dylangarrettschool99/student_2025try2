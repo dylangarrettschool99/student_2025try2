{
 "cells": [
  {
   "cell_type": "code",
   "execution_count": 6,
   "metadata": {
    "vscode": {
     "languageId": "java"
    }
   },
   "outputs": [],
   "source": [
    "public class Mutable{\n",
    "    private int value;\n",
    "    public Mutable(int start) {\n",
    "        value = start;\n",
    "    }\n",
    "    public void incrementValue() {\n",
    "        value++;\n",
    "    }\n",
    "    public int getValue() {\n",
    "        return value;\n",
    "    }\n",
    "}"
   ]
  },
  {
   "cell_type": "code",
   "execution_count": 9,
   "metadata": {
    "vscode": {
     "languageId": "java"
    }
   },
   "outputs": [
    {
     "name": "stdout",
     "output_type": "stream",
     "text": [
      "30\n",
      "33\n",
      "null\n"
     ]
    }
   ],
   "source": [
    "Mutable[] array3; //initialize array of mutable objects\n",
    "array3 = new Mutable[3]; //set size of array3 equal to three\n",
    "array3[1] = new Mutable(33); //assigning the number 33 to the second element\n",
    "array3[0] = new Mutable(array3[1].getValue() - 3); //assigning the second element's value minus three to the first element aka the number 30\n",
    "for (Mutable m : array3) { //printing out the values of the array using for loop\n",
    "    if (m != null) {\n",
    "        System.out.println(m.getValue());\n",
    "    } else {\n",
    "        System.out.println(\"null\");\n",
    "    }\n",
    "}"
   ]
  },
  {
   "cell_type": "code",
   "execution_count": 14,
   "metadata": {
    "vscode": {
     "languageId": "java"
    }
   },
   "outputs": [],
   "source": [
    "public class test{\n",
    "    private int value;\n",
    "    public test(int start) {\n",
    "    }\n",
    "}\n"
   ]
  },
  {
   "cell_type": "code",
   "execution_count": 15,
   "metadata": {
    "vscode": {
     "languageId": "java"
    }
   },
   "outputs": [
    {
     "name": "stdout",
     "output_type": "stream",
     "text": [
      "1\n"
     ]
    }
   ],
   "source": [
    "public static int findThirdLast(String [] arrtest, String find)\n",
    "{\n",
    "    return arrtest[arrtest.length-3].indexOf(find);\n",
    "}\n",
    "\n",
    "String [] testArray = {\"cat\", \"dog\", \"horse\", \"monkey\", \"snake\", \"elephant\"};\n",
    "int result = findThirdLast(testArray, \"on\");\n",
    "System.out.println(result);"
   ]
  },
  {
   "cell_type": "code",
   "execution_count": null,
   "metadata": {
    "vscode": {
     "languageId": "java"
    }
   },
   "outputs": [],
   "source": [
    "// basic for loop syntax\n",
    "for (initialization; condition; increment/decrement) {\n",
    "    // code to be executed\n",
    "}"
   ]
  },
  {
   "cell_type": "code",
   "execution_count": 30,
   "metadata": {
    "vscode": {
     "languageId": "java"
    }
   },
   "outputs": [
    {
     "name": "stdout",
     "output_type": "stream",
     "text": [
      "[18, 32, 68, 20, 44]\n",
      "[20, 0, 2, 0, 59]\n"
     ]
    }
   ],
   "source": [
    "public static void main(String[] args) {    \n",
    "    int[] list = new int[5];\n",
    "    for (int index =0; index < list.length; index+=2) {\n",
    "        list[index] = (int) (Math.random() * 100);\n",
    "    }\n",
    "    System.out.println(Arrays.toString(list));\n",
    "}\n",
    "main(null);"
   ]
  }
 ],
 "metadata": {
  "kernelspec": {
   "display_name": "Java",
   "language": "java",
   "name": "java"
  },
  "language_info": {
   "codemirror_mode": "java",
   "file_extension": ".jshell",
   "mimetype": "text/x-java-source",
   "name": "Java",
   "pygments_lexer": "java",
   "version": "17.0.12+7-Ubuntu-1ubuntu224.04"
  }
 },
 "nbformat": 4,
 "nbformat_minor": 2
}
